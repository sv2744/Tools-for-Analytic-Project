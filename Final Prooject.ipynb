{
 "cells": [
  {
   "cell_type": "markdown",
   "id": "065e6f13",
   "metadata": {},
   "source": [
    "# Set Up"
   ]
  },
  {
   "cell_type": "code",
   "execution_count": 2,
   "id": "59aecade",
   "metadata": {},
   "outputs": [
    {
     "name": "stdout",
     "output_type": "stream",
     "text": [
      "Requirement already satisfied: geoalchemy2 in /Users/yingyizhen/anaconda3/lib/python3.11/site-packages (0.14.2)\n",
      "Requirement already satisfied: SQLAlchemy>=1.4 in /Users/yingyizhen/anaconda3/lib/python3.11/site-packages (from geoalchemy2) (2.0.23)\n",
      "Requirement already satisfied: packaging in /Users/yingyizhen/anaconda3/lib/python3.11/site-packages (from geoalchemy2) (23.0)\n",
      "Requirement already satisfied: typing-extensions>=4.2.0 in /Users/yingyizhen/anaconda3/lib/python3.11/site-packages (from SQLAlchemy>=1.4->geoalchemy2) (4.7.1)\n",
      "Requirement already satisfied: geopandas in /Users/yingyizhen/anaconda3/lib/python3.11/site-packages (0.14.1)\n",
      "Requirement already satisfied: fiona>=1.8.21 in /Users/yingyizhen/anaconda3/lib/python3.11/site-packages (from geopandas) (1.9.5)\n",
      "Requirement already satisfied: packaging in /Users/yingyizhen/anaconda3/lib/python3.11/site-packages (from geopandas) (23.0)\n",
      "Requirement already satisfied: pandas>=1.4.0 in /Users/yingyizhen/anaconda3/lib/python3.11/site-packages (from geopandas) (2.1.3)\n",
      "Requirement already satisfied: pyproj>=3.3.0 in /Users/yingyizhen/anaconda3/lib/python3.11/site-packages (from geopandas) (3.6.1)\n",
      "Requirement already satisfied: shapely>=1.8.0 in /Users/yingyizhen/anaconda3/lib/python3.11/site-packages (from geopandas) (2.0.2)\n",
      "Requirement already satisfied: attrs>=19.2.0 in /Users/yingyizhen/anaconda3/lib/python3.11/site-packages (from fiona>=1.8.21->geopandas) (22.1.0)\n",
      "Requirement already satisfied: certifi in /Users/yingyizhen/anaconda3/lib/python3.11/site-packages (from fiona>=1.8.21->geopandas) (2023.7.22)\n",
      "Requirement already satisfied: click~=8.0 in /Users/yingyizhen/anaconda3/lib/python3.11/site-packages (from fiona>=1.8.21->geopandas) (8.1.7)\n",
      "Requirement already satisfied: click-plugins>=1.0 in /Users/yingyizhen/anaconda3/lib/python3.11/site-packages (from fiona>=1.8.21->geopandas) (1.1.1)\n",
      "Requirement already satisfied: cligj>=0.5 in /Users/yingyizhen/anaconda3/lib/python3.11/site-packages (from fiona>=1.8.21->geopandas) (0.7.2)\n",
      "Requirement already satisfied: six in /Users/yingyizhen/anaconda3/lib/python3.11/site-packages (from fiona>=1.8.21->geopandas) (1.16.0)\n",
      "Requirement already satisfied: setuptools in /Users/yingyizhen/anaconda3/lib/python3.11/site-packages (from fiona>=1.8.21->geopandas) (68.0.0)\n",
      "Requirement already satisfied: numpy<2,>=1.23.2 in /Users/yingyizhen/anaconda3/lib/python3.11/site-packages (from pandas>=1.4.0->geopandas) (1.24.3)\n",
      "Requirement already satisfied: python-dateutil>=2.8.2 in /Users/yingyizhen/anaconda3/lib/python3.11/site-packages (from pandas>=1.4.0->geopandas) (2.8.2)\n",
      "Requirement already satisfied: pytz>=2020.1 in /Users/yingyizhen/anaconda3/lib/python3.11/site-packages (from pandas>=1.4.0->geopandas) (2022.7)\n",
      "Requirement already satisfied: tzdata>=2022.1 in /Users/yingyizhen/anaconda3/lib/python3.11/site-packages (from pandas>=1.4.0->geopandas) (2023.3)\n",
      "Requirement already satisfied: psycopg2-binary in /Users/yingyizhen/anaconda3/lib/python3.11/site-packages (2.9.9)\n"
     ]
    }
   ],
   "source": [
    "# Install module needed for the project\n",
    "!pip install geoalchemy2\n",
    "!pip install geopandas\n",
    "!pip install psycopg2-binary"
   ]
  },
  {
   "cell_type": "code",
   "execution_count": 2,
   "id": "3d3dcbcd",
   "metadata": {},
   "outputs": [],
   "source": [
    "# Import statements needed for the project\n",
    "import json\n",
    "import pathlib\n",
    "import urllib.parse\n",
    "import os\n",
    "import pyproj\n",
    "\n",
    "import geoalchemy2 as gdb\n",
    "from geoalchemy2 import Geometry, WKTElement\n",
    "import geopandas as gpd\n",
    "from geopandas import GeoDataFrame\n",
    "import matplotlib.pyplot as plt\n",
    "import pandas as pd\n",
    "import requests\n",
    "import shapely\n",
    "from shapely import wkb\n",
    "import sqlalchemy as db\n",
    "\n",
    "from sqlalchemy.orm import declarative_base\n",
    "from sqlalchemy.ext.declarative import declarative_base\n",
    "from sqlalchemy.orm import sessionmaker\n",
    "from sqlalchemy import create_engine, Column, String, Integer, Date, Float, MetaData, Table, create_engine, text\n",
    "import psycopg2\n",
    "from shapely.geometry import Point\n",
    "import seaborn as sns"
   ]
  },
  {
   "cell_type": "markdown",
   "id": "9dd117c3",
   "metadata": {},
   "source": [
    "# Part 1: Data Preprocessing"
   ]
  },
  {
   "cell_type": "markdown",
   "id": "53867884",
   "metadata": {},
   "source": [
    "## 1.1) NYC Open Data"
   ]
  },
  {
   "cell_type": "code",
   "execution_count": 2,
   "id": "b3ebbd41",
   "metadata": {},
   "outputs": [],
   "source": [
    "## Store URL and application token\n",
    "url_complaint = \"https://data.cityofnewyork.us/resource/erm2-nwe9.geojson\"\n",
    "url_tree = \"https://data.cityofnewyork.us/resource/5rq2-4hqu.geojson\"\n",
    "app_token = \"YgXUUmVq41Z9433qxe5qpLOMG\"\n",
    "\n",
    "## Define date time range\n",
    "start_date = \"2022-10-01\"\n",
    "end_date = \"2023-09-30\"\n",
    "\n",
    "## Define parameter\n",
    "params_complaint = {\"$$app_token\": app_token,\n",
    "                    \"$select\": \"incident_zip,created_date,location,complaint_type\",\n",
    "                    \"$where\": f\"created_date between '{start_date}T00:00:00' and '{end_date}T23:59:59'\",\n",
    "                    \"$limit\": 35_000_000}\n",
    "\n",
    "params_tree = {\"$$app_token\": app_token,\n",
    "               \"$select\": \"zipcode,created_at, the_geom, spc_common,health,status\",\n",
    "               \"$limit\": 690_000}\n",
    "\n",
    "## Import NYC Open Data\n",
    "raw_data_complaint = requests.get(url_complaint, params=params_complaint).json()\n",
    "raw_data_tree = requests.get(url_tree, params=params_tree).json()\n",
    "\n",
    "## Convert JSON to DataFrame\n",
    "gdf_complaint = gpd.GeoDataFrame.from_features(raw_data_complaint['features'])\n",
    "gdf_tree = gpd.GeoDataFrame.from_features(raw_data_tree['features'])"
   ]
  },
  {
   "cell_type": "code",
   "execution_count": 3,
   "id": "0760fb00",
   "metadata": {},
   "outputs": [],
   "source": [
    "## Set the CRS to EPSG:4326\n",
    "gdf_complaint.crs = \"EPSG:4326\"\n",
    "gdf_tree.crs = \"EPSG:4326\""
   ]
  },
  {
   "cell_type": "code",
   "execution_count": 6,
   "id": "65d89c5e",
   "metadata": {},
   "outputs": [],
   "source": [
    "### Cleaning Data ###\n",
    "\n",
    "## Rename columns to have consistent naming\n",
    "# Rename zipcode column in complaint dataframe\n",
    "gdf_complaint.rename(columns={'incident_zip': 'zipcode'}, inplace=True)\n",
    "# Rename date column in complaint dataframe\n",
    "gdf_complaint.rename(columns={'created_date': 'created_at'}, inplace=True)\n",
    "\n",
    "## Convert data types\n",
    "# Convert 'zipcode' data type to str in complaint and tree dataframe\n",
    "gdf_complaint['zipcode'] = gdf_complaint['zipcode'].astype(str)\n",
    "gdf_tree['zipcode'] = gdf_tree['zipcode'].astype(str)\n",
    "# Convert 'created_at' data type to datetime in complaint dataframe\n",
    "gdf_complaint['created_at'] = pd.to_datetime(gdf_complaint['created_at'])\n",
    "\n",
    "## Add a 'complaint_id' column with unique IDs to your DataFrame\n",
    "gdf_complaint['complaint_id'] = range(1, len(gdf_complaint) + 1)\n",
    "# Add a 'tree_id' column with unique IDs to your DataFrame\n",
    "gdf_tree['tree_id'] = range(1, len(gdf_tree) + 1)\n"
   ]
  },
  {
   "cell_type": "markdown",
   "id": "82b188c6",
   "metadata": {},
   "source": [
    "## 1.2) Geometric boundary data "
   ]
  },
  {
   "cell_type": "code",
   "execution_count": 17,
   "id": "ac4acffc",
   "metadata": {
    "scrolled": true
   },
   "outputs": [],
   "source": [
    "### Getting Data ###\n",
    "\n",
    "## Define the path to the SHP file (and related files)\n",
    "# Path for Irene  'data', 'nyc_zipcodes.shp'\n",
    "# Path for Sahaphon r'C:\\Users\\USER\\Documents\\GitHub\\Tools-for-Analytic-Project\\data\\nyc_zipcodes.shp'\n",
    "Geom_file_path = os.path.join(os.getcwd(),r'C:\\Users\\USER\\Documents\\GitHub\\Tools-for-Analytic-Project\\data\\nyc_zipcodes.shp')\n",
    "\n",
    "## Load the shapefile using geopandas and normalize \n",
    "gdf_zipcode = gpd.read_file(Geom_file_path).to_crs(epsg=4326)"
   ]
  },
  {
   "cell_type": "code",
   "execution_count": 18,
   "id": "4e2ac76d",
   "metadata": {},
   "outputs": [],
   "source": [
    "### Cleaning Data ###\n",
    "\n",
    "## Column selection\n",
    "# Specify the columns to keep\n",
    "columns_to_keep = ['ZIPCODE', 'geometry']\n",
    "# Use the indexing operator to select the desired columns\n",
    "gdf_zipcode = gdf_zipcode[columns_to_keep]\n",
    "\n",
    "## Rename columns to have consistent naming\n",
    "# Rename columns 'ZIPCODE'\n",
    "gdf_zipcode.rename(columns={'ZIPCODE': 'zipcode'}, inplace=True)\n",
    "# Rename columns 'geometry'\n",
    "gdf_zipcode.rename(columns={'geometry': 'boundary'}, inplace=True)\n",
    "\n",
    "## remove row with duplicate zipcode\n",
    "gdf_zipcode = gdf_zipcode.drop_duplicates(subset=['zipcode'])\n",
    "\n",
    "## Convert 'zipcode' data type to str\n",
    "gdf_zipcode['zipcode'] = gdf_zipcode['zipcode'].astype(str)"
   ]
  },
  {
   "cell_type": "markdown",
   "id": "e5d67e45",
   "metadata": {},
   "source": [
    "## 1.3) Rent data"
   ]
  },
  {
   "cell_type": "code",
   "execution_count": 19,
   "id": "645be0cc",
   "metadata": {},
   "outputs": [],
   "source": [
    "### Getting Data ###\n",
    "\n",
    "## Define the path to the CSV file\n",
    "# Path for Irene 'data', 'zillow_rent_data.csv'\n",
    "# Path for Sahaphon r'C:\\Users\\USER\\Documents\\GitHub\\Tools-for-Analytic-Project\\data\\zillow_rent_data.csv'\n",
    "rent_file_path = os.path.join(os.getcwd(), r'C:\\Users\\USER\\Documents\\GitHub\\Tools-for-Analytic-Project\\data\\zillow_rent_data.csv')\n",
    "\n",
    "## Convert CSV to DataFrame\n",
    "gdf_rent = pd.read_csv(rent_file_path)\n",
    "\n",
    "## Column selection\n",
    "# Define the columns to delete\n",
    "columns_to_delete = ['SizeRank', 'RegionID', 'RegionType', 'StateName', 'State', 'City', 'Metro', 'CountyName']\n",
    "# Use the drop method to delete the specified columns\n",
    "gdf_rent = gdf_rent.drop(columns=columns_to_delete)\n",
    "\n",
    "## Rename columns to have consistent naming\n",
    "# Rename columns 'RegionName'\n",
    "gdf_rent.rename(columns={'RegionName': 'zipcode'}, inplace=True)"
   ]
  },
  {
   "cell_type": "code",
   "execution_count": 20,
   "id": "558a3c53",
   "metadata": {},
   "outputs": [],
   "source": [
    "### Cleaning Data ###\n",
    "\n",
    "# Convert zipcode to string\n",
    "gdf_rent['zipcode'] = gdf_rent['zipcode'].astype(str)\n",
    "\n",
    "# Reshape DataFrame from wide to long format\n",
    "df_zillow = df.melt(id_vars='zipcode', var_name='date', value_name='average_rent')\n",
    "\n",
    "# Drop rows where 'average_rent' is null\n",
    "df_zillow = df_zillow.dropna(subset=['average_rent'])\n",
    "\n",
    "# Convert 'date' to a datetime type\n",
    "df_zillow['date'] = pd.to_datetime(df_zillow['date'], format='%Y-%m-%d')"
   ]
  },
  {
   "cell_type": "markdown",
   "id": "42de6e61",
   "metadata": {},
   "source": [
    "## Part 2: Storing Data"
   ]
  },
  {
   "cell_type": "markdown",
   "id": "b08a350c",
   "metadata": {},
   "source": [
    "## 2.1) Create Database"
   ]
  },
  {
   "cell_type": "code",
   "execution_count": 22,
   "id": "95677375",
   "metadata": {},
   "outputs": [
    {
     "name": "stdout",
     "output_type": "stream",
     "text": [
      "^C\n"
     ]
    }
   ],
   "source": [
    "## Create a new database in PostgreSQL\n",
    "#!createdb group4501project"
   ]
  },
  {
   "cell_type": "code",
   "execution_count": 20,
   "id": "91672982",
   "metadata": {},
   "outputs": [
    {
     "name": "stdout",
     "output_type": "stream",
     "text": [
      "ERROR:  extension \"postgis\" already exists\r\n"
     ]
    }
   ],
   "source": [
    "## Turn on the PostGIS extension\n",
    "#!psql --dbname group48project -c 'CREATE EXTENSION postgis;'"
   ]
  },
  {
   "cell_type": "markdown",
   "id": "e4564b46",
   "metadata": {},
   "source": [
    "## 2.2) Create Schema File"
   ]
  },
  {
   "cell_type": "code",
   "execution_count": 23,
   "id": "496bbc1c",
   "metadata": {},
   "outputs": [],
   "source": [
    "## Schema for complaint data \n",
    "NYC_311_SCHEMA = \"\"\"\n",
    "CREATE TABLE IF NOT EXISTS complaints_311 (\n",
    "    complaint_id SERIAL PRIMARY KEY,\n",
    "    geometry GEOMETRY(Point),\n",
    "    zipcode VARCHAR(10),\n",
    "    created_at TIMESTAMP,\n",
    "    complaint_type VARCHAR(50)\n",
    ");\n",
    "CREATE INDEX IF NOT EXISTS idx_complaints_311_geometry ON complaints_311 USING GIST (geometry);\n",
    "\"\"\"\n",
    "\n",
    "## Schema for tree data\n",
    "NYC_TREE_SCHEMA = \"\"\"\n",
    "CREATE TABLE IF NOT EXISTS trees (\n",
    "    tree_id SERIAL PRIMARY KEY,\n",
    "    zipcode VARCHAR(10),\n",
    "    created_at DATE,\n",
    "    geometry GEOMETRY(Point),\n",
    "    spc_common VARCHAR(255),\n",
    "    health VARCHAR(50),\n",
    "    status VARCHAR(50)\n",
    ");\n",
    "CREATE INDEX IF NOT EXISTS idx_trees_geometry ON trees USING GIST (geometry);\n",
    "\"\"\"\n",
    "\n",
    "## Schema for zipcode\n",
    "ZIPCODE_SCHEMA = \"\"\"\n",
    "CREATE TABLE IF NOT EXISTS nyc_zip_codes (\n",
    "    zipcode VARCHAR(10) PRIMARY KEY,\n",
    "    boundary GEOMETRY(Polygon)\n",
    ");\n",
    "CREATE INDEX IF NOT EXISTS idx_nyc_zip_codes_boundary ON nyc_zip_codes USING GIST (boundary);\n",
    "\"\"\"\n",
    "\n",
    "## Schema for rent data\n",
    "ZILLOW_SCHEMA = \"\"\"\n",
    "CREATE TABLE IF NOT EXISTS historical_rents (\n",
    "    id SERIAL PRIMARY KEY,\n",
    "    zipcode VARCHAR(10),\n",
    "    date DATE,\n",
    "    average_rent NUMERIC\n",
    ");  \n",
    "\"\"\"\n",
    "\n",
    "## create schema file\n",
    "with open('schema.sql', 'w') as file:\n",
    "    file.write(ZIPCODE_SCHEMA)\n",
    "    file.write('\\n')\n",
    "    file.write(NYC_311_SCHEMA)\n",
    "    file.write('\\n')\n",
    "    file.write(NYC_TREE_SCHEMA)\n",
    "    file.write('\\n')\n",
    "    file.write(ZILLOW_SCHEMA)"
   ]
  },
  {
   "cell_type": "markdown",
   "id": "907a9cd1",
   "metadata": {},
   "source": [
    "## 2.3) Create and populate tables in database"
   ]
  },
  {
   "cell_type": "markdown",
   "id": "779da0ef",
   "metadata": {},
   "source": [
    "# create engine"
   ]
  },
  {
   "cell_type": "code",
   "execution_count": 1,
   "id": "72813e8e",
   "metadata": {
    "scrolled": true
   },
   "outputs": [
    {
     "ename": "NameError",
     "evalue": "name 'create_engine' is not defined",
     "output_type": "error",
     "traceback": [
      "\u001b[1;31m---------------------------------------------------------------------------\u001b[0m",
      "\u001b[1;31mNameError\u001b[0m                                 Traceback (most recent call last)",
      "Cell \u001b[1;32mIn[1], line 9\u001b[0m\n\u001b[0;32m      6\u001b[0m password \u001b[38;5;241m=\u001b[39m \u001b[38;5;124m'\u001b[39m\u001b[38;5;124mpostgres\u001b[39m\u001b[38;5;124m'\u001b[39m\n\u001b[0;32m      8\u001b[0m \u001b[38;5;66;03m# Create an SQLAlchemy engine\u001b[39;00m\n\u001b[1;32m----> 9\u001b[0m engine \u001b[38;5;241m=\u001b[39m create_engine(\u001b[38;5;124mf\u001b[39m\u001b[38;5;124m'\u001b[39m\u001b[38;5;124mpostgresql+psycopg2://\u001b[39m\u001b[38;5;132;01m{\u001b[39;00muser\u001b[38;5;132;01m}\u001b[39;00m\u001b[38;5;124m:\u001b[39m\u001b[38;5;132;01m{\u001b[39;00mpassword\u001b[38;5;132;01m}\u001b[39;00m\u001b[38;5;124m@\u001b[39m\u001b[38;5;132;01m{\u001b[39;00mhost\u001b[38;5;132;01m}\u001b[39;00m\u001b[38;5;124m:\u001b[39m\u001b[38;5;132;01m{\u001b[39;00mport\u001b[38;5;132;01m}\u001b[39;00m\u001b[38;5;124m/\u001b[39m\u001b[38;5;132;01m{\u001b[39;00mdbname\u001b[38;5;132;01m}\u001b[39;00m\u001b[38;5;124m'\u001b[39m)\n",
      "\u001b[1;31mNameError\u001b[0m: name 'create_engine' is not defined"
     ]
    }
   ],
   "source": [
    "# Database credentials\n",
    "dbname = 'group4501project'\n",
    "user = 'postgres'\n",
    "host = 'localhost'\n",
    "port = '5432'\n",
    "password = 'postgres'\n",
    "\n",
    "# Create an SQLAlchemy engine\n",
    "engine = create_engine(f'postgresql+psycopg2://{user}:{password}@{host}:{port}/{dbname}')"
   ]
  },
  {
   "cell_type": "markdown",
   "id": "0f509af6",
   "metadata": {},
   "source": [
    "# Populating Data to Table complaints_311"
   ]
  },
  {
   "cell_type": "code",
   "execution_count": null,
   "id": "0fccdb61",
   "metadata": {},
   "outputs": [],
   "source": [
    "## Complaint table\n",
    "\n",
    "# Convert GeoDataFrame to PostGIS\n",
    "gdf_complaint.to_postgis(name='complaints_311', con=engine, if_exists='replace', index=False, dtype={'geometry': Geometry('Point', srid=4326)})\n",
    "\n",
    "# Execute the schema creation SQL for complaints_311\n",
    "# Query to view the contents of the table\n",
    "with engine.connect() as connection:\n",
    "    connection.execute(text(NYC_311_SCHEMA))\n",
    "    query = \"SELECT complaint_id, ST_AsText(geometry) as geometry, zipcode, created_at FROM complaints_311;\"\n",
    "    result_df = pd.read_sql_query(query, connection)\n",
    "\n",
    "# Display the first few rows of the DataFrame\n",
    "print(result_df.head())\n",
    "\n",
    "# NOT Close the engine\n",
    "# engine.dispose()"
   ]
  },
  {
   "cell_type": "code",
   "execution_count": 24,
   "id": "12362e20",
   "metadata": {},
   "outputs": [],
   "source": [
    "# SQL statement to create an index\n",
    "create_index_statement = text(\"\"\"\n",
    "    CREATE INDEX IF NOT EXISTS idx_complaints_311_geometry \n",
    "    ON complaints_311 \n",
    "    USING GIST (geometry);\n",
    "\"\"\")\n",
    "\n",
    "# Execute the statement\n",
    "with engine.connect() as connection:\n",
    "    connection.execute(create_index_statement)"
   ]
  },
  {
   "cell_type": "markdown",
   "id": "19a5a64e",
   "metadata": {},
   "source": [
    "# Populating Data to Table trees"
   ]
  },
  {
   "cell_type": "code",
   "execution_count": 25,
   "id": "dc5f11e2",
   "metadata": {},
   "outputs": [
    {
     "name": "stdout",
     "output_type": "stream",
     "text": [
      "   tree_id zipcode  created_at                                      geometry  \\\n",
      "0        1   11375  2015-08-27  POINT(-73.84421521958048 40.723091773924274)   \n",
      "1        2   11357  2015-09-03   POINT(-73.81867945834878 40.79411066708779)   \n",
      "2        3   11211  2015-09-05  POINT(-73.93660770459083 40.717580740099116)   \n",
      "3        4   11211  2015-09-05  POINT(-73.93445615919741 40.713537494833226)   \n",
      "4        5   11215  2015-08-30   POINT(-73.97597938483258 40.66677775537875)   \n",
      "\n",
      "        spc_common health status  \n",
      "0        red maple   Fair  Alive  \n",
      "1          pin oak   Fair  Alive  \n",
      "2      honeylocust   Good  Alive  \n",
      "3      honeylocust   Good  Alive  \n",
      "4  American linden   Good  Alive  \n"
     ]
    }
   ],
   "source": [
    "# Execute the schema creation SQL for trees\n",
    "with engine.connect() as connection:\n",
    "    connection.execute(text(NYC_TREE_SCHEMA))\n",
    "\n",
    "# Convert GeoDataFrame to PostGIS for trees\n",
    "gdf_tree['created_at'] = pd.to_datetime(gdf_tree['created_at']).dt.date\n",
    "gdf_tree = gdf_tree[gdf_tree['geometry'].notnull()]\n",
    "\n",
    "# Define the table name for trees\n",
    "table_name_trees = 'trees'\n",
    "\n",
    "# Use the known SRID since we have normalized the data\n",
    "srid = 4326\n",
    "\n",
    "# Use to_postgis to insert data into the 'trees' table\n",
    "gdf_tree.to_postgis(name=table_name_trees, con=engine, if_exists='replace', index=False, dtype={'geometry': Geometry('Point', srid=srid)})\n",
    "\n",
    "# Query to view the contents of the 'trees' table\n",
    "with engine.connect() as connection:\n",
    "    query_trees = text(f\"SELECT tree_id, zipcode, created_at, ST_AsText(geometry) as geometry, spc_common, health, status FROM {table_name_trees};\")\n",
    "    result_df_trees = pd.read_sql_query(query_trees, connection)\n",
    "\n",
    "# Display the first few rows of the DataFrame\n",
    "print(result_df_trees.head())\n",
    "\n",
    "# Not close the engine\n",
    "# engine.dispose()\n"
   ]
  },
  {
   "cell_type": "code",
   "execution_count": 26,
   "id": "942e35c2",
   "metadata": {},
   "outputs": [],
   "source": [
    "# SQL statement to create an index on the 'trees' table\n",
    "create_index_statement_for_trees = text(\"\"\"\n",
    "    CREATE INDEX IF NOT EXISTS idx_trees_geometry \n",
    "    ON trees \n",
    "    USING GIST (geometry);\n",
    "\"\"\")\n",
    "\n",
    "# Execute the statement to create the index\n",
    "with engine.connect() as connection:\n",
    "    connection.execute(create_index_statement_for_trees)"
   ]
  },
  {
   "cell_type": "markdown",
   "id": "76275442",
   "metadata": {},
   "source": [
    "# Populating Data to Table nyc_zip_codes"
   ]
  },
  {
   "cell_type": "code",
   "execution_count": 27,
   "id": "36609da4",
   "metadata": {
    "scrolled": false
   },
   "outputs": [
    {
     "name": "stdout",
     "output_type": "stream",
     "text": [
      "  zipcode                                           boundary\n",
      "0   11436  POLYGON((1038098.2518714815 188138.38000671566...\n",
      "1   11213  POLYGON((1001613.7129640579 186926.4395172149,...\n",
      "2   11212  POLYGON((1011174.275535807 183696.33770971,101...\n",
      "3   11225  POLYGON((995908.3654508889 183617.61280155182,...\n",
      "4   11218  POLYGON((991997.1134308875 176307.4958601296,9...\n"
     ]
    }
   ],
   "source": [
    "# Set 'boundary' as the active geometry column\n",
    "gdf_zipcode = gdf_zipcode.set_geometry('boundary')\n",
    "\n",
    "# Convert GeoDataFrame to PostGIS for nyc_zip_codes\n",
    "gdf_zipcode.to_postgis(name='nyc_zip_codes', con=engine, if_exists='replace', index=False, dtype={'boundary': Geometry('Polygon', srid=4326)})\n",
    "\n",
    "# Query to view the contents of the table\n",
    "with engine.connect() as connection:\n",
    "    query = \"SELECT zipcode, ST_AsText(boundary) as boundary FROM nyc_zip_codes;\"\n",
    "    result_df = pd.read_sql_query(query, connection)\n",
    "\n",
    "# Display the first few rows of the DataFrame\n",
    "print(result_df.head())\n",
    "\n",
    "# Close the engine\n",
    "engine.dispose()"
   ]
  },
  {
   "cell_type": "code",
   "execution_count": 28,
   "id": "6d0960e9",
   "metadata": {},
   "outputs": [],
   "source": [
    "# SQL statement to create an index on the 'nyc_zip_codes' table\n",
    "create_index_statement_for_zipcodes = text(\"\"\"\n",
    "    CREATE INDEX IF NOT EXISTS idx_nyc_zip_codes_boundary \n",
    "    ON nyc_zip_codes \n",
    "    USING GIST (boundary);\n",
    "\"\"\")\n",
    "\n",
    "# Execute the statement to create the index\n",
    "with engine.connect() as connection:\n",
    "    connection.execute(create_index_statement_for_zipcodes)\n"
   ]
  },
  {
   "cell_type": "markdown",
   "id": "36158b41",
   "metadata": {},
   "source": [
    "# Populating Data to historical_rents"
   ]
  },
  {
   "cell_type": "code",
   "execution_count": 29,
   "id": "7f2a1cda",
   "metadata": {},
   "outputs": [
    {
     "name": "stdout",
     "output_type": "stream",
     "text": [
      "  zipcode       date  average_rent\n",
      "0   77494 2015-01-31   1606.206406\n",
      "1   77449 2015-01-31   1257.814660\n",
      "2   78660 2015-01-31   1399.372678\n",
      "3   77433 2015-01-31   1332.384333\n",
      "4   37013 2015-01-31   1139.424798\n"
     ]
    }
   ],
   "source": [
    "# STORE ZILLOW DATA\n",
    "\n",
    "with engine.connect() as connection:\n",
    "    connection.execute(text(ZILLOW_SCHEMA))\n",
    "    \n",
    "# Insert data into the database\n",
    "df_zillow.to_sql('historical_rents', con=engine, if_exists='append', index=False)\n",
    "\n",
    "# Query to view the contents of the table\n",
    "with engine.connect() as connection:\n",
    "    query = \"SELECT zipcode, date, average_rent FROM historical_rents;\"\n",
    "    result_rent = pd.read_sql_query(query, connection)\n",
    "\n",
    "# Display the first few rows of the DataFrame\n",
    "print(result_rent.head())"
   ]
  },
  {
   "cell_type": "markdown",
   "id": "db38584d",
   "metadata": {},
   "source": [
    "# Q1"
   ]
  },
  {
   "cell_type": "code",
   "execution_count": 30,
   "id": "2d583224",
   "metadata": {},
   "outputs": [
    {
     "name": "stdout",
     "output_type": "stream",
     "text": [
      "    zipcode  complaint_count\n",
      "0     11226            49347\n",
      "1     10467            47358\n",
      "2     10468            44081\n",
      "3     11385            43944\n",
      "4     10452            43880\n",
      "..      ...              ...\n",
      "375   11559                1\n",
      "376   11580                1\n",
      "377   11581                1\n",
      "378   11598                1\n",
      "379   07017                1\n",
      "\n",
      "[380 rows x 2 columns]\n"
     ]
    }
   ],
   "source": [
    "query1 = \"\"\"\n",
    "SELECT zipcode, COUNT(*) as complaint_count\n",
    "FROM complaints_311\n",
    "WHERE created_at BETWEEN '2022-10-01' AND '2023-09-30'\n",
    "GROUP BY zipcode\n",
    "ORDER BY complaint_count DESC;\n",
    "\"\"\"\n",
    "with engine.connect() as connection:\n",
    "    result_query1 = pd.read_sql_query(query1, connection)\n",
    "\n",
    "print(result_query1)  \n",
    "\n",
    "with open('query1_descending_complaints_per_zipcode.sql', 'w') as file:\n",
    "    file.write(query1)"
   ]
  },
  {
   "cell_type": "markdown",
   "id": "ce706b78",
   "metadata": {},
   "source": [
    "# Q2"
   ]
  },
  {
   "cell_type": "code",
   "execution_count": 31,
   "id": "8683ea7a",
   "metadata": {},
   "outputs": [
    {
     "name": "stdout",
     "output_type": "stream",
     "text": [
      "Query 2 Result:\n",
      "  zipcode  total_trees\n",
      "0   10312        22186\n",
      "1   10314        16905\n",
      "2   10306        13030\n",
      "3   10309        12650\n",
      "4   11234        11253\n",
      "5   11385        10937\n",
      "6   11357         9449\n",
      "7   11207         8634\n",
      "8   11434         8274\n",
      "9   11208         8245\n"
     ]
    }
   ],
   "source": [
    "query2 = \"\"\"\n",
    "SELECT zipcode, COUNT(*) as total_trees\n",
    "FROM trees\n",
    "GROUP BY zipcode\n",
    "ORDER BY total_trees DESC\n",
    "LIMIT 10;\n",
    "\"\"\"\n",
    "\n",
    "result_2 = pd.read_sql_query(text(query2), engine)\n",
    "print(\"Query 2 Result:\")\n",
    "print(result_2)\n",
    "with open('query2_mosttrees_zipcode.sql', 'w') as file:\n",
    "    file.write(query2)"
   ]
  },
  {
   "cell_type": "markdown",
   "id": "fa5d03e6",
   "metadata": {},
   "source": [
    "# Q3"
   ]
  },
  {
   "cell_type": "code",
   "execution_count": 33,
   "id": "1a4309f2",
   "metadata": {},
   "outputs": [
    {
     "name": "stdout",
     "output_type": "stream",
     "text": [
      "  zipcode formatted_avg_rent\n",
      "0   10312           1,775.09\n",
      "1   10314           2,465.47\n",
      "2   10306           2,331.54\n",
      "3   10309           1,832.01\n",
      "4   11234           2,312.31\n",
      "5   11385           3,064.48\n",
      "6   11357           2,458.81\n",
      "7   11207           3,079.09\n",
      "8   11434           2,645.92\n",
      "9   11208           2,737.55\n"
     ]
    }
   ],
   "source": [
    "# SQL query to find the formatted average rent for the top 10 zip codes with the most trees in August 2023\n",
    "query3 = (\"\"\"\n",
    "    SELECT t.zipcode, \n",
    "           TO_CHAR(AVG(hr.average_rent), 'FM999,999,999.99') as formatted_avg_rent\n",
    "    FROM trees t\n",
    "    JOIN historical_rents hr ON t.zipcode = hr.zipcode\n",
    "    WHERE t.zipcode IN (\n",
    "        SELECT zipcode\n",
    "        FROM trees\n",
    "        GROUP BY zipcode\n",
    "        ORDER BY COUNT(*) DESC\n",
    "        LIMIT 10\n",
    "    )\n",
    "    AND hr.date >= '2023-08-01' AND hr.date <= '2023-08-31'\n",
    "    GROUP BY t.zipcode\n",
    "    ORDER BY COUNT(*) DESC;\n",
    "\"\"\")\n",
    "\n",
    "# Execute the query\n",
    "with engine.connect() as connection:\n",
    "    result_query3 = pd.read_sql_query(query3, connection)\n",
    "\n",
    "# Display the result\n",
    "print(result_query3)\n",
    "\n",
    "with open('query3_mosttrees_rent.sql', 'w') as file:\n",
    "    file.write(query3)\n",
    "    "
   ]
  },
  {
   "cell_type": "markdown",
   "id": "2391b437",
   "metadata": {},
   "source": [
    "# Q4"
   ]
  },
  {
   "cell_type": "code",
   "execution_count": 35,
   "id": "1bc7133f",
   "metadata": {},
   "outputs": [
    {
     "name": "stdout",
     "output_type": "stream",
     "text": [
      "  zipcode          avg  tree_count  complaint_count rent_category\n",
      "0   10309  1380.514269       12650            10122        Lowest\n",
      "1   10462  1801.890987        4234            30866        Lowest\n",
      "2   10453  1820.234164        3050            38193        Lowest\n",
      "3   11357  1829.663380        9449            12915        Lowest\n",
      "4   10458  1883.075801        3405            41275        Lowest\n",
      "5   10007  7270.236702         355             4199       Highest\n",
      "6   10282  7143.347680         234              746       Highest\n",
      "7   10013  5480.106304        1202            12488       Highest\n",
      "8   10069  4959.670333         119              602       Highest\n",
      "9   10011  4741.866947        2134            22282       Highest\n"
     ]
    }
   ],
   "source": [
    "import pandas as pd\n",
    "from sqlalchemy import create_engine\n",
    "\n",
    "# SQL query to find the 5 zip codes with both the lowest and highest average rent in January 2023, along with their tree and complaint counts\n",
    "query4 = \"\"\"\n",
    "    SELECT * FROM (\n",
    "        SELECT\n",
    "            hr.zipcode,\n",
    "            AVG(hr.average_rent),\n",
    "            tc.tree_count,\n",
    "            cc.complaint_count,\n",
    "            'Lowest' as Rent_Category\n",
    "        FROM\n",
    "            historical_rents hr\n",
    "        INNER JOIN \n",
    "            (SELECT zipcode, COUNT(*) AS tree_count FROM trees GROUP BY zipcode) tc\n",
    "        ON\n",
    "            hr.zipcode = tc.zipcode\n",
    "        INNER JOIN \n",
    "            (SELECT zipcode, COUNT(*) AS complaint_count FROM complaints_311 GROUP BY zipcode) cc\n",
    "        ON \n",
    "            hr.zipcode = cc.zipcode\n",
    "        WHERE\n",
    "            hr.date >= '2023-01-01' AND hr.date <= '2023-01-31'\n",
    "        GROUP BY\n",
    "            hr.zipcode, tc.tree_count, cc.complaint_count\n",
    "        ORDER BY\n",
    "            AVG(hr.average_rent) ASC\n",
    "        LIMIT 5\n",
    "    ) as Lowest\n",
    "\n",
    "    UNION ALL\n",
    "\n",
    "    SELECT * FROM (\n",
    "        SELECT\n",
    "            hr.zipcode,\n",
    "            AVG(hr.average_rent),\n",
    "            tc.tree_count,\n",
    "            cc.complaint_count,\n",
    "            'Highest' as Rent_Category\n",
    "        FROM\n",
    "            historical_rents hr\n",
    "        INNER JOIN \n",
    "            (SELECT zipcode, COUNT(*) AS tree_count FROM trees GROUP BY zipcode) tc\n",
    "        ON\n",
    "            hr.zipcode = tc.zipcode\n",
    "        INNER JOIN \n",
    "            (SELECT zipcode, COUNT(*) AS complaint_count FROM complaints_311 GROUP BY zipcode) cc\n",
    "        ON \n",
    "            hr.zipcode = cc.zipcode\n",
    "        WHERE\n",
    "            hr.date >= '2023-01-01' AND hr.date <= '2023-01-31'\n",
    "        GROUP BY\n",
    "            hr.zipcode, tc.tree_count, cc.complaint_count\n",
    "        ORDER BY\n",
    "            AVG(hr.average_rent) DESC\n",
    "        LIMIT 5\n",
    "    ) as Highest;\n",
    "\"\"\"\n",
    "\n",
    "# Execute the query and load the result into a DataFrame\n",
    "with engine.connect() as connection:\n",
    "    result_df = pd.read_sql(query, connection)\n",
    "\n",
    "# Display the result\n",
    "print(result_df)\n",
    "\n",
    "with open('query4_rent_complaints_trees.sql', 'w') as file:\n",
    "    file.write(query4)\n"
   ]
  },
  {
   "cell_type": "markdown",
   "id": "d1e1d949",
   "metadata": {},
   "source": [
    "\n",
    "# Q5"
   ]
  },
  {
   "cell_type": "code",
   "execution_count": null,
   "id": "e6812a33",
   "metadata": {},
   "outputs": [],
   "source": [
    "import pandas as pd\n",
    "from sqlalchemy import create_engine\n",
    "\n",
    "    \n",
    "# SQL query to find the 10 zip codes with the most trees\n",
    "query5 = \"\"\"\n",
    "SELECT\n",
    "    nz.zipcode,\n",
    "    COUNT(t.tree_id) AS tree_count\n",
    "FROM\n",
    "    nyc_zip_codes nz\n",
    "JOIN\n",
    "    trees t ON ST_Intersects(ST_Transform(nz.boundary, 4326), ST_Transform(t.geometry, 4326))\n",
    "GROUP BY\n",
    "    nz.zipcode\n",
    "ORDER BY\n",
    "    tree_count DESC\n",
    "LIMIT 10;\n",
    "\n",
    "\n",
    "\"\"\"\n",
    "\n",
    "# Execute the query and load the results into a DataFrame\n",
    "with engine.connect() as connection:\n",
    "    result_df = pd.read_sql(query5, connection)\n",
    "\n",
    "# Display the result\n",
    "print(result_df)\n",
    "\n",
    "with open('query5_zipcode_mosttrees.sql', 'w') as file:\n",
    "    file.write(query5)\n"
   ]
  },
  {
   "cell_type": "markdown",
   "id": "8a35e9b5",
   "metadata": {},
   "source": [
    "# Q6"
   ]
  },
  {
   "cell_type": "code",
   "execution_count": 10,
   "id": "488912bd",
   "metadata": {
    "scrolled": true
   },
   "outputs": [
    {
     "ename": "InternalError",
     "evalue": "(psycopg2.errors.InternalError_) LWGEOM_dwithin: Operation on mixed SRID geometries (Point, 4326) != (Polygon, 0)\n\n[SQL: \nSELECT tree_id, spc_common, health, status, ST_AsText(geometry) as location\nFROM trees\nWHERE ST_DWithin(geometry, 'POLYGON ((731.0374682556509 40.80737875669467, 727.1611732267694 -38.096419208601624, 715.5696189802513 -116.24033046628855, 696.374438520079 -192.8717864331475, 669.7604919272367 -267.2527842972026, 635.9840860560766 -338.66699438823343, 595.3705061591997 -406.42665882408505, 548.3108832126542 -469.87921499503994, 495.2584271108217 -528.413580098476, 436.7240620073856 -581.4660362003085, 373.2715058364307 -628.5256591468542, 305.5118414005791 -669.1392390437311, 234.0976313095482 -702.9156449148911, 159.71663344549302 -729.5295915077335, 83.08517747863417 -748.7247719679058, 4.941266220947298 -760.3163262144237, -73.96253174434908 -764.1926212433053, -152.86632970964547 -760.3163262144238, -231.01024096733232 -748.7247719679058, -307.6416969341912 -729.5295915077335, -382.02269479824633 -702.9156449148911, -453.4369048892773 -669.1392390437311, -521.1965693251286 -628.5256591468544, -584.6491254960836 -581.4660362003087, -643.1834905995198 -528.4135800984761, -696.2359467013524 -469.87921499503994, -743.2955696478981 -406.42665882408505, -783.9091495447749 -338.66699438823355, -817.6855554159349 -267.25278429720265, -844.2995020087773 -192.8717864331475, -863.4946824689496 -116.24033046628884, -875.0862367154675 -38.09641920860181, -878.9625317443491 40.80737875669457, -875.0862367154676 119.71117672199094, -863.4946824689496 197.85508797967802, -844.2995020087773 274.4865439465367, -817.6855554159349 348.8675418105919, -783.9091495447749 420.2817519016228, -743.2955696478982 488.04141633747423, -696.2359467013525 551.4939725084291, -643.18349059952 610.0283376118654, -584.649125496084 663.0807937136976, -521.1965693251288 710.1404166602435, -453.4369048892774 750.7539965571204, -382.02269479824685 784.5304024282804, -307.6416969341914 811.1443490211228, -231.0102409673327 830.3395294812951, -152.8663297096453 841.9310837278132, -73.96253174434926 845.8073787566947, 4.941266220946758 841.9310837278132, 83.08517747863414 830.3395294812951, 159.71663344549287 811.1443490211228, 234.09763130954832 784.5304024282804, 305.51184140057893 750.7539965571204, 373.2715058364304 710.1404166602439, 436.7240620073856 663.0807937136979, 495.2584271108216 610.0283376118656, 548.3108832126538 551.4939725084296, 595.3705061591997 488.0414163374744, 635.9840860560766 420.281751901623, 669.7604919272366 348.86754181059246, 696.374438520079 274.4865439465369, 715.5696189802513 197.8550879796783, 727.1611732267694 119.71117672199088, 731.0374682556509 40.80737875669467))', 805);\n]\n(Background on this error at: https://sqlalche.me/e/20/2j85)",
     "output_type": "error",
     "traceback": [
      "\u001b[0;31m---------------------------------------------------------------------------\u001b[0m",
      "\u001b[0;31mInternalError_\u001b[0m                            Traceback (most recent call last)",
      "File \u001b[0;32m~/anaconda3/lib/python3.11/site-packages/sqlalchemy/engine/base.py:1969\u001b[0m, in \u001b[0;36mConnection._exec_single_context\u001b[0;34m(self, dialect, context, statement, parameters)\u001b[0m\n\u001b[1;32m   1968\u001b[0m     \u001b[38;5;28;01mif\u001b[39;00m \u001b[38;5;129;01mnot\u001b[39;00m evt_handled:\n\u001b[0;32m-> 1969\u001b[0m         \u001b[38;5;28mself\u001b[39m\u001b[38;5;241m.\u001b[39mdialect\u001b[38;5;241m.\u001b[39mdo_execute(\n\u001b[1;32m   1970\u001b[0m             cursor, str_statement, effective_parameters, context\n\u001b[1;32m   1971\u001b[0m         )\n\u001b[1;32m   1973\u001b[0m \u001b[38;5;28;01mif\u001b[39;00m \u001b[38;5;28mself\u001b[39m\u001b[38;5;241m.\u001b[39m_has_events \u001b[38;5;129;01mor\u001b[39;00m \u001b[38;5;28mself\u001b[39m\u001b[38;5;241m.\u001b[39mengine\u001b[38;5;241m.\u001b[39m_has_events:\n",
      "File \u001b[0;32m~/anaconda3/lib/python3.11/site-packages/sqlalchemy/engine/default.py:922\u001b[0m, in \u001b[0;36mDefaultDialect.do_execute\u001b[0;34m(self, cursor, statement, parameters, context)\u001b[0m\n\u001b[1;32m    921\u001b[0m \u001b[38;5;28;01mdef\u001b[39;00m \u001b[38;5;21mdo_execute\u001b[39m(\u001b[38;5;28mself\u001b[39m, cursor, statement, parameters, context\u001b[38;5;241m=\u001b[39m\u001b[38;5;28;01mNone\u001b[39;00m):\n\u001b[0;32m--> 922\u001b[0m     cursor\u001b[38;5;241m.\u001b[39mexecute(statement, parameters)\n",
      "\u001b[0;31mInternalError_\u001b[0m: LWGEOM_dwithin: Operation on mixed SRID geometries (Point, 4326) != (Polygon, 0)\n",
      "\nThe above exception was the direct cause of the following exception:\n",
      "\u001b[0;31mInternalError\u001b[0m                             Traceback (most recent call last)",
      "Cell \u001b[0;32mIn[10], line 28\u001b[0m\n\u001b[1;32m     21\u001b[0m query_6 \u001b[38;5;241m=\u001b[39m \u001b[38;5;124mf\u001b[39m\u001b[38;5;124m\"\"\"\u001b[39m\n\u001b[1;32m     22\u001b[0m \u001b[38;5;124mSELECT tree_id, spc_common, health, status, ST_AsText(geometry) as location\u001b[39m\n\u001b[1;32m     23\u001b[0m \u001b[38;5;124mFROM trees\u001b[39m\n\u001b[1;32m     24\u001b[0m \u001b[38;5;124mWHERE ST_DWithin(geometry, \u001b[39m\u001b[38;5;124m'\u001b[39m\u001b[38;5;132;01m{\u001b[39;00mbuffer_wkt\u001b[38;5;132;01m}\u001b[39;00m\u001b[38;5;124m'\u001b[39m\u001b[38;5;124m, \u001b[39m\u001b[38;5;132;01m{\u001b[39;00mbuffer_radius_meters\u001b[38;5;132;01m}\u001b[39;00m\u001b[38;5;124m);\u001b[39m\n\u001b[1;32m     25\u001b[0m \u001b[38;5;124m\"\"\"\u001b[39m\n\u001b[1;32m     27\u001b[0m \u001b[38;5;66;03m# Execute the query\u001b[39;00m\n\u001b[0;32m---> 28\u001b[0m result_6 \u001b[38;5;241m=\u001b[39m pd\u001b[38;5;241m.\u001b[39mread_sql_query(text(query_6), engine)\n\u001b[1;32m     30\u001b[0m \u001b[38;5;66;03m# Display the result\u001b[39;00m\n\u001b[1;32m     31\u001b[0m \u001b[38;5;28mprint\u001b[39m(\u001b[38;5;124m\"\u001b[39m\u001b[38;5;124mQuery 6 Result:\u001b[39m\u001b[38;5;124m\"\u001b[39m)\n",
      "File \u001b[0;32m~/anaconda3/lib/python3.11/site-packages/pandas/io/sql.py:486\u001b[0m, in \u001b[0;36mread_sql_query\u001b[0;34m(sql, con, index_col, coerce_float, params, parse_dates, chunksize, dtype, dtype_backend)\u001b[0m\n\u001b[1;32m    483\u001b[0m \u001b[38;5;28;01massert\u001b[39;00m dtype_backend \u001b[38;5;129;01mis\u001b[39;00m \u001b[38;5;129;01mnot\u001b[39;00m lib\u001b[38;5;241m.\u001b[39mno_default\n\u001b[1;32m    485\u001b[0m \u001b[38;5;28;01mwith\u001b[39;00m pandasSQL_builder(con) \u001b[38;5;28;01mas\u001b[39;00m pandas_sql:\n\u001b[0;32m--> 486\u001b[0m     \u001b[38;5;28;01mreturn\u001b[39;00m pandas_sql\u001b[38;5;241m.\u001b[39mread_query(\n\u001b[1;32m    487\u001b[0m         sql,\n\u001b[1;32m    488\u001b[0m         index_col\u001b[38;5;241m=\u001b[39mindex_col,\n\u001b[1;32m    489\u001b[0m         params\u001b[38;5;241m=\u001b[39mparams,\n\u001b[1;32m    490\u001b[0m         coerce_float\u001b[38;5;241m=\u001b[39mcoerce_float,\n\u001b[1;32m    491\u001b[0m         parse_dates\u001b[38;5;241m=\u001b[39mparse_dates,\n\u001b[1;32m    492\u001b[0m         chunksize\u001b[38;5;241m=\u001b[39mchunksize,\n\u001b[1;32m    493\u001b[0m         dtype\u001b[38;5;241m=\u001b[39mdtype,\n\u001b[1;32m    494\u001b[0m         dtype_backend\u001b[38;5;241m=\u001b[39mdtype_backend,\n\u001b[1;32m    495\u001b[0m     )\n",
      "File \u001b[0;32m~/anaconda3/lib/python3.11/site-packages/pandas/io/sql.py:1776\u001b[0m, in \u001b[0;36mSQLDatabase.read_query\u001b[0;34m(self, sql, index_col, coerce_float, parse_dates, params, chunksize, dtype, dtype_backend)\u001b[0m\n\u001b[1;32m   1719\u001b[0m \u001b[38;5;28;01mdef\u001b[39;00m \u001b[38;5;21mread_query\u001b[39m(\n\u001b[1;32m   1720\u001b[0m     \u001b[38;5;28mself\u001b[39m,\n\u001b[1;32m   1721\u001b[0m     sql: \u001b[38;5;28mstr\u001b[39m,\n\u001b[0;32m   (...)\u001b[0m\n\u001b[1;32m   1728\u001b[0m     dtype_backend: DtypeBackend \u001b[38;5;241m|\u001b[39m Literal[\u001b[38;5;124m\"\u001b[39m\u001b[38;5;124mnumpy\u001b[39m\u001b[38;5;124m\"\u001b[39m] \u001b[38;5;241m=\u001b[39m \u001b[38;5;124m\"\u001b[39m\u001b[38;5;124mnumpy\u001b[39m\u001b[38;5;124m\"\u001b[39m,\n\u001b[1;32m   1729\u001b[0m ) \u001b[38;5;241m-\u001b[39m\u001b[38;5;241m>\u001b[39m DataFrame \u001b[38;5;241m|\u001b[39m Iterator[DataFrame]:\n\u001b[1;32m   1730\u001b[0m \u001b[38;5;250m    \u001b[39m\u001b[38;5;124;03m\"\"\"\u001b[39;00m\n\u001b[1;32m   1731\u001b[0m \u001b[38;5;124;03m    Read SQL query into a DataFrame.\u001b[39;00m\n\u001b[1;32m   1732\u001b[0m \n\u001b[0;32m   (...)\u001b[0m\n\u001b[1;32m   1774\u001b[0m \n\u001b[1;32m   1775\u001b[0m \u001b[38;5;124;03m    \"\"\"\u001b[39;00m\n\u001b[0;32m-> 1776\u001b[0m     result \u001b[38;5;241m=\u001b[39m \u001b[38;5;28mself\u001b[39m\u001b[38;5;241m.\u001b[39mexecute(sql, params)\n\u001b[1;32m   1777\u001b[0m     columns \u001b[38;5;241m=\u001b[39m result\u001b[38;5;241m.\u001b[39mkeys()\n\u001b[1;32m   1779\u001b[0m     \u001b[38;5;28;01mif\u001b[39;00m chunksize \u001b[38;5;129;01mis\u001b[39;00m \u001b[38;5;129;01mnot\u001b[39;00m \u001b[38;5;28;01mNone\u001b[39;00m:\n",
      "File \u001b[0;32m~/anaconda3/lib/python3.11/site-packages/pandas/io/sql.py:1600\u001b[0m, in \u001b[0;36mSQLDatabase.execute\u001b[0;34m(self, sql, params)\u001b[0m\n\u001b[1;32m   1598\u001b[0m \u001b[38;5;28;01mif\u001b[39;00m \u001b[38;5;28misinstance\u001b[39m(sql, \u001b[38;5;28mstr\u001b[39m):\n\u001b[1;32m   1599\u001b[0m     \u001b[38;5;28;01mreturn\u001b[39;00m \u001b[38;5;28mself\u001b[39m\u001b[38;5;241m.\u001b[39mcon\u001b[38;5;241m.\u001b[39mexec_driver_sql(sql, \u001b[38;5;241m*\u001b[39margs)\n\u001b[0;32m-> 1600\u001b[0m \u001b[38;5;28;01mreturn\u001b[39;00m \u001b[38;5;28mself\u001b[39m\u001b[38;5;241m.\u001b[39mcon\u001b[38;5;241m.\u001b[39mexecute(sql, \u001b[38;5;241m*\u001b[39margs)\n",
      "File \u001b[0;32m~/anaconda3/lib/python3.11/site-packages/sqlalchemy/engine/base.py:1416\u001b[0m, in \u001b[0;36mConnection.execute\u001b[0;34m(self, statement, parameters, execution_options)\u001b[0m\n\u001b[1;32m   1414\u001b[0m     \u001b[38;5;28;01mraise\u001b[39;00m exc\u001b[38;5;241m.\u001b[39mObjectNotExecutableError(statement) \u001b[38;5;28;01mfrom\u001b[39;00m \u001b[38;5;21;01merr\u001b[39;00m\n\u001b[1;32m   1415\u001b[0m \u001b[38;5;28;01melse\u001b[39;00m:\n\u001b[0;32m-> 1416\u001b[0m     \u001b[38;5;28;01mreturn\u001b[39;00m meth(\n\u001b[1;32m   1417\u001b[0m         \u001b[38;5;28mself\u001b[39m,\n\u001b[1;32m   1418\u001b[0m         distilled_parameters,\n\u001b[1;32m   1419\u001b[0m         execution_options \u001b[38;5;129;01mor\u001b[39;00m NO_OPTIONS,\n\u001b[1;32m   1420\u001b[0m     )\n",
      "File \u001b[0;32m~/anaconda3/lib/python3.11/site-packages/sqlalchemy/sql/elements.py:516\u001b[0m, in \u001b[0;36mClauseElement._execute_on_connection\u001b[0;34m(self, connection, distilled_params, execution_options)\u001b[0m\n\u001b[1;32m    514\u001b[0m     \u001b[38;5;28;01mif\u001b[39;00m TYPE_CHECKING:\n\u001b[1;32m    515\u001b[0m         \u001b[38;5;28;01massert\u001b[39;00m \u001b[38;5;28misinstance\u001b[39m(\u001b[38;5;28mself\u001b[39m, Executable)\n\u001b[0;32m--> 516\u001b[0m     \u001b[38;5;28;01mreturn\u001b[39;00m connection\u001b[38;5;241m.\u001b[39m_execute_clauseelement(\n\u001b[1;32m    517\u001b[0m         \u001b[38;5;28mself\u001b[39m, distilled_params, execution_options\n\u001b[1;32m    518\u001b[0m     )\n\u001b[1;32m    519\u001b[0m \u001b[38;5;28;01melse\u001b[39;00m:\n\u001b[1;32m    520\u001b[0m     \u001b[38;5;28;01mraise\u001b[39;00m exc\u001b[38;5;241m.\u001b[39mObjectNotExecutableError(\u001b[38;5;28mself\u001b[39m)\n",
      "File \u001b[0;32m~/anaconda3/lib/python3.11/site-packages/sqlalchemy/engine/base.py:1639\u001b[0m, in \u001b[0;36mConnection._execute_clauseelement\u001b[0;34m(self, elem, distilled_parameters, execution_options)\u001b[0m\n\u001b[1;32m   1627\u001b[0m compiled_cache: Optional[CompiledCacheType] \u001b[38;5;241m=\u001b[39m execution_options\u001b[38;5;241m.\u001b[39mget(\n\u001b[1;32m   1628\u001b[0m     \u001b[38;5;124m\"\u001b[39m\u001b[38;5;124mcompiled_cache\u001b[39m\u001b[38;5;124m\"\u001b[39m, \u001b[38;5;28mself\u001b[39m\u001b[38;5;241m.\u001b[39mengine\u001b[38;5;241m.\u001b[39m_compiled_cache\n\u001b[1;32m   1629\u001b[0m )\n\u001b[1;32m   1631\u001b[0m compiled_sql, extracted_params, cache_hit \u001b[38;5;241m=\u001b[39m elem\u001b[38;5;241m.\u001b[39m_compile_w_cache(\n\u001b[1;32m   1632\u001b[0m     dialect\u001b[38;5;241m=\u001b[39mdialect,\n\u001b[1;32m   1633\u001b[0m     compiled_cache\u001b[38;5;241m=\u001b[39mcompiled_cache,\n\u001b[0;32m   (...)\u001b[0m\n\u001b[1;32m   1637\u001b[0m     linting\u001b[38;5;241m=\u001b[39m\u001b[38;5;28mself\u001b[39m\u001b[38;5;241m.\u001b[39mdialect\u001b[38;5;241m.\u001b[39mcompiler_linting \u001b[38;5;241m|\u001b[39m compiler\u001b[38;5;241m.\u001b[39mWARN_LINTING,\n\u001b[1;32m   1638\u001b[0m )\n\u001b[0;32m-> 1639\u001b[0m ret \u001b[38;5;241m=\u001b[39m \u001b[38;5;28mself\u001b[39m\u001b[38;5;241m.\u001b[39m_execute_context(\n\u001b[1;32m   1640\u001b[0m     dialect,\n\u001b[1;32m   1641\u001b[0m     dialect\u001b[38;5;241m.\u001b[39mexecution_ctx_cls\u001b[38;5;241m.\u001b[39m_init_compiled,\n\u001b[1;32m   1642\u001b[0m     compiled_sql,\n\u001b[1;32m   1643\u001b[0m     distilled_parameters,\n\u001b[1;32m   1644\u001b[0m     execution_options,\n\u001b[1;32m   1645\u001b[0m     compiled_sql,\n\u001b[1;32m   1646\u001b[0m     distilled_parameters,\n\u001b[1;32m   1647\u001b[0m     elem,\n\u001b[1;32m   1648\u001b[0m     extracted_params,\n\u001b[1;32m   1649\u001b[0m     cache_hit\u001b[38;5;241m=\u001b[39mcache_hit,\n\u001b[1;32m   1650\u001b[0m )\n\u001b[1;32m   1651\u001b[0m \u001b[38;5;28;01mif\u001b[39;00m has_events:\n\u001b[1;32m   1652\u001b[0m     \u001b[38;5;28mself\u001b[39m\u001b[38;5;241m.\u001b[39mdispatch\u001b[38;5;241m.\u001b[39mafter_execute(\n\u001b[1;32m   1653\u001b[0m         \u001b[38;5;28mself\u001b[39m,\n\u001b[1;32m   1654\u001b[0m         elem,\n\u001b[0;32m   (...)\u001b[0m\n\u001b[1;32m   1658\u001b[0m         ret,\n\u001b[1;32m   1659\u001b[0m     )\n",
      "File \u001b[0;32m~/anaconda3/lib/python3.11/site-packages/sqlalchemy/engine/base.py:1848\u001b[0m, in \u001b[0;36mConnection._execute_context\u001b[0;34m(self, dialect, constructor, statement, parameters, execution_options, *args, **kw)\u001b[0m\n\u001b[1;32m   1843\u001b[0m     \u001b[38;5;28;01mreturn\u001b[39;00m \u001b[38;5;28mself\u001b[39m\u001b[38;5;241m.\u001b[39m_exec_insertmany_context(\n\u001b[1;32m   1844\u001b[0m         dialect,\n\u001b[1;32m   1845\u001b[0m         context,\n\u001b[1;32m   1846\u001b[0m     )\n\u001b[1;32m   1847\u001b[0m \u001b[38;5;28;01melse\u001b[39;00m:\n\u001b[0;32m-> 1848\u001b[0m     \u001b[38;5;28;01mreturn\u001b[39;00m \u001b[38;5;28mself\u001b[39m\u001b[38;5;241m.\u001b[39m_exec_single_context(\n\u001b[1;32m   1849\u001b[0m         dialect, context, statement, parameters\n\u001b[1;32m   1850\u001b[0m     )\n",
      "File \u001b[0;32m~/anaconda3/lib/python3.11/site-packages/sqlalchemy/engine/base.py:1988\u001b[0m, in \u001b[0;36mConnection._exec_single_context\u001b[0;34m(self, dialect, context, statement, parameters)\u001b[0m\n\u001b[1;32m   1985\u001b[0m     result \u001b[38;5;241m=\u001b[39m context\u001b[38;5;241m.\u001b[39m_setup_result_proxy()\n\u001b[1;32m   1987\u001b[0m \u001b[38;5;28;01mexcept\u001b[39;00m \u001b[38;5;167;01mBaseException\u001b[39;00m \u001b[38;5;28;01mas\u001b[39;00m e:\n\u001b[0;32m-> 1988\u001b[0m     \u001b[38;5;28mself\u001b[39m\u001b[38;5;241m.\u001b[39m_handle_dbapi_exception(\n\u001b[1;32m   1989\u001b[0m         e, str_statement, effective_parameters, cursor, context\n\u001b[1;32m   1990\u001b[0m     )\n\u001b[1;32m   1992\u001b[0m \u001b[38;5;28;01mreturn\u001b[39;00m result\n",
      "File \u001b[0;32m~/anaconda3/lib/python3.11/site-packages/sqlalchemy/engine/base.py:2343\u001b[0m, in \u001b[0;36mConnection._handle_dbapi_exception\u001b[0;34m(self, e, statement, parameters, cursor, context, is_sub_exec)\u001b[0m\n\u001b[1;32m   2341\u001b[0m \u001b[38;5;28;01melif\u001b[39;00m should_wrap:\n\u001b[1;32m   2342\u001b[0m     \u001b[38;5;28;01massert\u001b[39;00m sqlalchemy_exception \u001b[38;5;129;01mis\u001b[39;00m \u001b[38;5;129;01mnot\u001b[39;00m \u001b[38;5;28;01mNone\u001b[39;00m\n\u001b[0;32m-> 2343\u001b[0m     \u001b[38;5;28;01mraise\u001b[39;00m sqlalchemy_exception\u001b[38;5;241m.\u001b[39mwith_traceback(exc_info[\u001b[38;5;241m2\u001b[39m]) \u001b[38;5;28;01mfrom\u001b[39;00m \u001b[38;5;21;01me\u001b[39;00m\n\u001b[1;32m   2344\u001b[0m \u001b[38;5;28;01melse\u001b[39;00m:\n\u001b[1;32m   2345\u001b[0m     \u001b[38;5;28;01massert\u001b[39;00m exc_info[\u001b[38;5;241m1\u001b[39m] \u001b[38;5;129;01mis\u001b[39;00m \u001b[38;5;129;01mnot\u001b[39;00m \u001b[38;5;28;01mNone\u001b[39;00m\n",
      "File \u001b[0;32m~/anaconda3/lib/python3.11/site-packages/sqlalchemy/engine/base.py:1969\u001b[0m, in \u001b[0;36mConnection._exec_single_context\u001b[0;34m(self, dialect, context, statement, parameters)\u001b[0m\n\u001b[1;32m   1967\u001b[0m                 \u001b[38;5;28;01mbreak\u001b[39;00m\n\u001b[1;32m   1968\u001b[0m     \u001b[38;5;28;01mif\u001b[39;00m \u001b[38;5;129;01mnot\u001b[39;00m evt_handled:\n\u001b[0;32m-> 1969\u001b[0m         \u001b[38;5;28mself\u001b[39m\u001b[38;5;241m.\u001b[39mdialect\u001b[38;5;241m.\u001b[39mdo_execute(\n\u001b[1;32m   1970\u001b[0m             cursor, str_statement, effective_parameters, context\n\u001b[1;32m   1971\u001b[0m         )\n\u001b[1;32m   1973\u001b[0m \u001b[38;5;28;01mif\u001b[39;00m \u001b[38;5;28mself\u001b[39m\u001b[38;5;241m.\u001b[39m_has_events \u001b[38;5;129;01mor\u001b[39;00m \u001b[38;5;28mself\u001b[39m\u001b[38;5;241m.\u001b[39mengine\u001b[38;5;241m.\u001b[39m_has_events:\n\u001b[1;32m   1974\u001b[0m     \u001b[38;5;28mself\u001b[39m\u001b[38;5;241m.\u001b[39mdispatch\u001b[38;5;241m.\u001b[39mafter_cursor_execute(\n\u001b[1;32m   1975\u001b[0m         \u001b[38;5;28mself\u001b[39m,\n\u001b[1;32m   1976\u001b[0m         cursor,\n\u001b[0;32m   (...)\u001b[0m\n\u001b[1;32m   1980\u001b[0m         context\u001b[38;5;241m.\u001b[39mexecutemany,\n\u001b[1;32m   1981\u001b[0m     )\n",
      "File \u001b[0;32m~/anaconda3/lib/python3.11/site-packages/sqlalchemy/engine/default.py:922\u001b[0m, in \u001b[0;36mDefaultDialect.do_execute\u001b[0;34m(self, cursor, statement, parameters, context)\u001b[0m\n\u001b[1;32m    921\u001b[0m \u001b[38;5;28;01mdef\u001b[39;00m \u001b[38;5;21mdo_execute\u001b[39m(\u001b[38;5;28mself\u001b[39m, cursor, statement, parameters, context\u001b[38;5;241m=\u001b[39m\u001b[38;5;28;01mNone\u001b[39;00m):\n\u001b[0;32m--> 922\u001b[0m     cursor\u001b[38;5;241m.\u001b[39mexecute(statement, parameters)\n",
      "\u001b[0;31mInternalError\u001b[0m: (psycopg2.errors.InternalError_) LWGEOM_dwithin: Operation on mixed SRID geometries (Point, 4326) != (Polygon, 0)\n\n[SQL: \nSELECT tree_id, spc_common, health, status, ST_AsText(geometry) as location\nFROM trees\nWHERE ST_DWithin(geometry, 'POLYGON ((731.0374682556509 40.80737875669467, 727.1611732267694 -38.096419208601624, 715.5696189802513 -116.24033046628855, 696.374438520079 -192.8717864331475, 669.7604919272367 -267.2527842972026, 635.9840860560766 -338.66699438823343, 595.3705061591997 -406.42665882408505, 548.3108832126542 -469.87921499503994, 495.2584271108217 -528.413580098476, 436.7240620073856 -581.4660362003085, 373.2715058364307 -628.5256591468542, 305.5118414005791 -669.1392390437311, 234.0976313095482 -702.9156449148911, 159.71663344549302 -729.5295915077335, 83.08517747863417 -748.7247719679058, 4.941266220947298 -760.3163262144237, -73.96253174434908 -764.1926212433053, -152.86632970964547 -760.3163262144238, -231.01024096733232 -748.7247719679058, -307.6416969341912 -729.5295915077335, -382.02269479824633 -702.9156449148911, -453.4369048892773 -669.1392390437311, -521.1965693251286 -628.5256591468544, -584.6491254960836 -581.4660362003087, -643.1834905995198 -528.4135800984761, -696.2359467013524 -469.87921499503994, -743.2955696478981 -406.42665882408505, -783.9091495447749 -338.66699438823355, -817.6855554159349 -267.25278429720265, -844.2995020087773 -192.8717864331475, -863.4946824689496 -116.24033046628884, -875.0862367154675 -38.09641920860181, -878.9625317443491 40.80737875669457, -875.0862367154676 119.71117672199094, -863.4946824689496 197.85508797967802, -844.2995020087773 274.4865439465367, -817.6855554159349 348.8675418105919, -783.9091495447749 420.2817519016228, -743.2955696478982 488.04141633747423, -696.2359467013525 551.4939725084291, -643.18349059952 610.0283376118654, -584.649125496084 663.0807937136976, -521.1965693251288 710.1404166602435, -453.4369048892774 750.7539965571204, -382.02269479824685 784.5304024282804, -307.6416969341914 811.1443490211228, -231.0102409673327 830.3395294812951, -152.8663297096453 841.9310837278132, -73.96253174434926 845.8073787566947, 4.941266220946758 841.9310837278132, 83.08517747863414 830.3395294812951, 159.71663344549287 811.1443490211228, 234.09763130954832 784.5304024282804, 305.51184140057893 750.7539965571204, 373.2715058364304 710.1404166602439, 436.7240620073856 663.0807937136979, 495.2584271108216 610.0283376118656, 548.3108832126538 551.4939725084296, 595.3705061591997 488.0414163374744, 635.9840860560766 420.281751901623, 669.7604919272366 348.86754181059246, 696.374438520079 274.4865439465369, 715.5696189802513 197.8550879796783, 727.1611732267694 119.71117672199088, 731.0374682556509 40.80737875669467))', 805);\n]\n(Background on this error at: https://sqlalche.me/e/20/2j85)"
     ]
    }
   ],
   "source": [
    "# Set the coordinate pair\n",
    "latitude = 40.80737875669467\n",
    "longitude = -73.96253174434912\n",
    "search_point = Point(longitude, latitude)\n",
    "\n",
    "# Convert the coordinate point to the same SRID as in the database (4326)\n",
    "search_point_wkt = search_point.wkt\n",
    "\n",
    "# Query to find trees within a ½ mile radius\n",
    "query = \"\"\"\n",
    "SELECT\n",
    "    tree_id AS ID,\n",
    "    spc_common AS species,\n",
    "    health,\n",
    "    status,\n",
    "    ST_AsText(geometry) AS coordinate_location\n",
    "FROM\n",
    "    trees\n",
    "WHERE\n",
    "    ST_DWithin(geometry::geography, ST_GeomFromText(:point, 4326)::geography, 804.672);\n",
    "\"\"\"\n",
    "\n",
    "# Execute the query with the search point parameter\n",
    "result = pd.read_sql_query(text(query), engine, params={\"point\": search_point_wkt})\n",
    "\n",
    "# Display the result\n",
    "print(result)"
   ]
  },
  {
   "cell_type": "code",
   "execution_count": null,
   "id": "b8e06174",
   "metadata": {},
   "outputs": [],
   "source": [
    "Session = sessionmaker(bind=engine)\n",
    "session = Session()\n",
    "\n",
    "# Define the coordinate pair\n",
    "latitude = 40.80737875669467\n",
    "longitude = -73.96253174434912\n",
    "\n",
    "# Create a Shapely Point from the coordinates\n",
    "point = Point(longitude, latitude)\n",
    "\n",
    "# Define the buffer radius in meters (approximate 0.5 miles)\n",
    "buffer_radius_meters = 805\n",
    "\n",
    "# Create a circular buffer around the point\n",
    "buffer_geometry = point.buffer(buffer_radius_meters)\n",
    "\n",
    "# Convert the Shapely geometry to Well-Known Text (WKT) format\n",
    "buffer_wkt = WKTElement(buffer_geometry.wkt, srid=4326)\n",
    "\n",
    "# Query to find trees within the buffer\n",
    "query_6 = f\"\"\"\n",
    "SELECT tree_id, spc_common, health, status, ST_AsText(geometry) as location\n",
    "FROM trees\n",
    "WHERE ST_DWithin(geometry, '{buffer_wkt}', {buffer_radius_meters});\n",
    "\"\"\"\n",
    "\n",
    "# Execute the query\n",
    "result_6 = pd.read_sql_query(text(query_6), engine)\n",
    "\n",
    "# Display the result\n",
    "print(\"Query 6 Result:\")\n",
    "print(result_6)"
   ]
  },
  {
   "cell_type": "markdown",
   "id": "a6f9d3f3",
   "metadata": {},
   "source": [
    "# V1"
   ]
  },
  {
   "cell_type": "code",
   "execution_count": 4,
   "id": "4582a736",
   "metadata": {},
   "outputs": [
    {
     "name": "stdout",
     "output_type": "stream",
     "text": [
      "        complaint_type  total_complaints\n",
      "0      Illegal Parking            457072\n",
      "1  Noise - Residential            294305\n",
      "2       HEAT/HOT WATER            238219\n"
     ]
    },
    {
     "data": {
      "image/png": "[encoded data removed]",
      "text/plain": [
       "<Figure size 1200x600 with 1 Axes>"
      ]
     },
     "metadata": {},
     "output_type": "display_data"
    }
   ],
   "source": [
    "# Query to get the top 3 complaint types\n",
    "top_complaints_query = \"\"\"\n",
    "SELECT\n",
    "    complaint_type,\n",
    "    COUNT(*) AS total_complaints\n",
    "FROM\n",
    "    complaints_311\n",
    "WHERE\n",
    "    created_at >= '2022-10-01' AND created_at < '2023-10-01'\n",
    "GROUP BY\n",
    "    complaint_type\n",
    "ORDER BY\n",
    "    total_complaints DESC\n",
    "LIMIT 3\n",
    "\"\"\"\n",
    "\n",
    "# Execute the query and create a DataFrame\n",
    "top_complaints = pd.read_sql(text(top_complaints_query), engine)\n",
    "\n",
    "# Display the top 3 complaint types\n",
    "print(top_complaints)\n",
    "\n",
    "# Query to get the number of complaints per day for each complaint type\n",
    "complaints_per_day_query = \"\"\"\n",
    "SELECT\n",
    "    created_at::date AS date,\n",
    "    complaint_type,\n",
    "    COUNT(*) AS daily_complaints\n",
    "FROM\n",
    "    complaints_311\n",
    "WHERE\n",
    "    created_at >= '2022-10-01' AND created_at < '2023-10-01'\n",
    "    AND complaint_type IN :top_complaint_types\n",
    "GROUP BY\n",
    "    date, complaint_type\n",
    "ORDER BY\n",
    "    date\n",
    "\"\"\"\n",
    "\n",
    "# Execute the query with the top complaint types\n",
    "complaints_per_day = pd.read_sql(\n",
    "    text(complaints_per_day_query),\n",
    "    engine,\n",
    "    params={'top_complaint_types': tuple(top_complaints['complaint_type'])}\n",
    ")\n",
    "\n",
    "# Pivot the DataFrame to have complaint types as columns\n",
    "complaints_per_day_pivot = complaints_per_day.pivot(index='date', columns='complaint_type', values='daily_complaints')\n",
    "\n",
    "# Compute cumulative counts for each complaint type\n",
    "cumulative_counts = complaints_per_day_pivot.cumsum()\n",
    "\n",
    "# Plot the cumulative data\n",
    "plt.figure(figsize=(12, 6))\n",
    "cumulative_counts.plot(ax=plt.gca(), marker='o')\n",
    "plt.title('Cumulative Number of Complaints per Day for Top 3 Complaint Types')\n",
    "plt.xlabel('Date')\n",
    "plt.ylabel('Cumulative Number of Complaints')\n",
    "plt.legend(title='Complaint Type')\n",
    "plt.show()"
   ]
  },
  {
   "cell_type": "markdown",
   "id": "f9e340bd",
   "metadata": {},
   "source": [
    "# V2"
   ]
  },
  {
   "cell_type": "code",
   "execution_count": 5,
   "id": "534dac24",
   "metadata": {},
   "outputs": [
    {
     "data": {
      "image/png": "[encoded data removed]",
      "text/plain": [
       "<Figure size 1000x600 with 1 Axes>"
      ]
     },
     "metadata": {},
     "output_type": "display_data"
    }
   ],
   "source": [
    "query = \"\"\"\n",
    "SELECT\n",
    "    c.complaint_type,\n",
    "    COUNT(c.complaint_id) AS complaint_count\n",
    "FROM\n",
    "    complaints_311 c\n",
    "WHERE\n",
    "    c.zipcode = '10027'\n",
    "    AND c.created_at >= '2018-10-01' AND c.created_at < '2023-10-01'\n",
    "GROUP BY\n",
    "    c.complaint_type\n",
    "ORDER BY\n",
    "    complaint_count DESC\n",
    "LIMIT 10;\n",
    "\"\"\"\n",
    "\n",
    "# Execute the query\n",
    "result = pd.read_sql_query(text(query), engine)\n",
    "\n",
    "# Plotting\n",
    "plt.figure(figsize=(10, 6))\n",
    "plt.bar(result['complaint_type'], result['complaint_count'], color='skyblue')\n",
    "plt.xlabel('Complaint Type')\n",
    "plt.ylabel('Number of Complaints')\n",
    "plt.title('Top 10 Complaint Types in Zip Code 10027 (Oct 1, 2018 - Sep 30, 2023)')\n",
    "plt.xticks(rotation=45, ha='right')\n",
    "plt.tight_layout()\n",
    "\n",
    "# Show the plot\n",
    "plt.show()\n",
    "\n",
    "# Close the engine\n",
    "engine.dispose()"
   ]
  },
  {
   "cell_type": "markdown",
   "id": "42ffc3b1",
   "metadata": {},
   "source": [
    "# V3"
   ]
  },
  {
   "cell_type": "code",
   "execution_count": 43,
   "id": "1cb8d38a",
   "metadata": {},
   "outputs": [],
   "source": [
    "import pandas as pd\n",
    "from sqlalchemy import create_engine\n",
    "import matplotlib.pyplot as plt\n",
    "\n",
    "\n",
    "def fetch_data():\n",
    "    query = \"\"\"\n",
    "        SELECT\n",
    "            hr.zipcode,\n",
    "            AVG(hr.average_rent) AS avg_rent,\n",
    "            SUM(tc.tree_count) AS total_tree_count,\n",
    "            SUM(cc.complaint_count) AS total_complaint_count\n",
    "        FROM\n",
    "            historical_rents hr\n",
    "        LEFT JOIN \n",
    "            (SELECT zipcode, COUNT(*) AS tree_count FROM trees GROUP BY zipcode) tc\n",
    "        ON\n",
    "            hr.zipcode = tc.zipcode\n",
    "        LEFT JOIN \n",
    "            (SELECT zipcode, COUNT(*) AS complaint_count FROM complaints_311 GROUP BY zipcode) cc\n",
    "        ON \n",
    "            hr.zipcode = cc.zipcode\n",
    "        WHERE\n",
    "            hr.date >= '2015-01-01' AND hr.date <= '2023-09-30'\n",
    "        GROUP BY\n",
    "            hr.zipcode;\n",
    "    \"\"\"\n",
    "    with engine.connect() as connection:\n",
    "        return pd.read_sql(query, connection)\n"
   ]
  },
  {
   "cell_type": "code",
   "execution_count": 44,
   "id": "c4c59123",
   "metadata": {},
   "outputs": [],
   "source": [
    "def create_visualization(df):\n",
    "    fig, ax = plt.subplots(2, 1, figsize=(10, 8), sharex=True)\n",
    "\n",
    "    # Rent vs Trees subplot\n",
    "    ax[0].scatter(df['total_tree_count'], df['avg_rent'], color='green', alpha=0.5)\n",
    "    ax[0].set_title('Average Rent vs Total Tree Count by Zip Code')\n",
    "    ax[0].set_xlabel('Total Tree Count')\n",
    "    ax[0].set_ylabel('Average Rent')\n",
    "\n",
    "    # Rent vs Complaints subplot\n",
    "    ax[1].scatter(df['total_complaint_count'], df['avg_rent'], color='red', alpha=0.5)\n",
    "    ax[1].set_title('Average Rent vs Total Complaint Count by Zip Code')\n",
    "    ax[1].set_xlabel('Total Complaint Count')\n",
    "    ax[1].set_ylabel('Average Rent')\n",
    "\n",
    "    plt.tight_layout()\n",
    "    plt.show()\n"
   ]
  },
  {
   "cell_type": "code",
   "execution_count": 45,
   "id": "5c2e702e",
   "metadata": {},
   "outputs": [
    {
     "data": {
      "image/png": "[encoded data removed]",
      "text/plain": [
       "<Figure size 1000x800 with 2 Axes>"
      ]
     },
     "metadata": {},
     "output_type": "display_data"
    }
   ],
   "source": [
    "# Fetch data from the database\n",
    "df = fetch_data()\n",
    "\n",
    "# Create and display the visualization\n",
    "create_visualization(df)\n"
   ]
  },
  {
   "cell_type": "markdown",
   "id": "0eb054c3",
   "metadata": {},
   "source": [
    "# V4"
   ]
  },
  {
   "cell_type": "code",
   "execution_count": 1,
   "id": "381bf68a",
   "metadata": {},
   "outputs": [
    {
     "ename": "NameError",
     "evalue": "name 'pd' is not defined",
     "output_type": "error",
     "traceback": [
      "\u001b[1;31m---------------------------------------------------------------------------\u001b[0m",
      "\u001b[1;31mNameError\u001b[0m                                 Traceback (most recent call last)",
      "Cell \u001b[1;32mIn[1], line 28\u001b[0m\n\u001b[0;32m      1\u001b[0m query \u001b[38;5;241m=\u001b[39m \u001b[38;5;124m\"\"\"\u001b[39m\n\u001b[0;32m      2\u001b[0m \u001b[38;5;124mWITH RentComplaints AS (\u001b[39m\n\u001b[0;32m      3\u001b[0m \u001b[38;5;124m    SELECT\u001b[39m\n\u001b[1;32m   (...)\u001b[0m\n\u001b[0;32m     24\u001b[0m \u001b[38;5;124m    zipcode\u001b[39m\n\u001b[0;32m     25\u001b[0m \u001b[38;5;124m\"\"\"\u001b[39m\n\u001b[0;32m     27\u001b[0m \u001b[38;5;66;03m# Execute the query\u001b[39;00m\n\u001b[1;32m---> 28\u001b[0m result \u001b[38;5;241m=\u001b[39m pd\u001b[38;5;241m.\u001b[39mread_sql_query(text(query), engine)\n\u001b[0;32m     30\u001b[0m \u001b[38;5;66;03m# Define the rent bins\u001b[39;00m\n\u001b[0;32m     31\u001b[0m rent_bins \u001b[38;5;241m=\u001b[39m \u001b[38;5;28mlist\u001b[39m(\u001b[38;5;28mrange\u001b[39m(\u001b[38;5;241m0\u001b[39m, \u001b[38;5;28mint\u001b[39m(result[\u001b[38;5;124m'\u001b[39m\u001b[38;5;124mavg_rent\u001b[39m\u001b[38;5;124m'\u001b[39m]\u001b[38;5;241m.\u001b[39mmax()) \u001b[38;5;241m+\u001b[39m \u001b[38;5;241m1001\u001b[39m, \u001b[38;5;241m1000\u001b[39m))\n",
      "\u001b[1;31mNameError\u001b[0m: name 'pd' is not defined"
     ]
    }
   ],
   "source": [
    "query = \"\"\"\n",
    "WITH RentComplaints AS (\n",
    "    SELECT\n",
    "        z.zipcode,\n",
    "        AVG(hr.average_rent) AS avg_rent,\n",
    "        COUNT(c.complaint_id) AS complaint_count\n",
    "    FROM\n",
    "        nyc_zip_codes z\n",
    "        LEFT JOIN historical_rents hr ON z.zipcode = hr.zipcode\n",
    "        LEFT JOIN complaints_311 c ON z.zipcode = c.zipcode\n",
    "    WHERE\n",
    "        hr.date >= '2023-09-01' AND hr.date < '2023-10-01'\n",
    "        AND c.created_at >= '2022-10-01' AND c.created_at < '2023-10-01'\n",
    "    GROUP BY\n",
    "        z.zipcode\n",
    ")\n",
    "SELECT\n",
    "    zipcode,\n",
    "    AVG(avg_rent) AS avg_rent,\n",
    "    SUM(complaint_count) AS total_complaints\n",
    "FROM\n",
    "    RentComplaints\n",
    "GROUP BY\n",
    "    zipcode\n",
    "\"\"\"\n",
    "\n",
    "# Execute the query\n",
    "result = pd.read_sql_query(text(query), engine)\n",
    "\n",
    "# Define the rent bins\n",
    "rent_bins = list(range(0, int(result['avg_rent'].max()) + 1001, 1000))\n",
    "\n",
    "# Create a new column for rent bins\n",
    "result['rent_bin'] = pd.cut(result['avg_rent'], bins=rent_bins, right=False)\n",
    "\n",
    "# Plotting\n",
    "plt.figure(figsize=(12, 8))\n",
    "sns.boxplot(x='rent_bin', y='total_complaints', data=result, palette='viridis')\n",
    "plt.xlabel('Average Rent Bins')\n",
    "plt.ylabel('Number of 311 Complaints')\n",
    "plt.title('Relationship Between Average Rent and 311 Complaints (Oct 1, 2022 - Sep 30, 2023)')\n",
    "plt.xticks(rotation=45, ha='right')\n",
    "plt.tight_layout()\n",
    "\n",
    "# Show the plot\n",
    "plt.show()\n",
    "\n",
    "# Close the engine\n",
    "engine.dispose()"
   ]
  },
  {
   "cell_type": "markdown",
   "id": "a1e02b53",
   "metadata": {},
   "source": [
    "# V5"
   ]
  },
  {
   "cell_type": "code",
   "execution_count": null,
   "id": "bf3cf833",
   "metadata": {
    "scrolled": true
   },
   "outputs": [],
   "source": [
    "# Replace these coordinates with the ones from Query 6 in Part 3\n",
    "target_latitude = 40.80737875669467\n",
    "target_longitude = -73.96253174434912\n",
    "\n",
    "# Set up the target point as a GeoDataFrame\n",
    "target_point = gpd.GeoDataFrame(geometry=[Point(target_longitude, target_latitude)], crs='EPSG:4326')\n",
    "\n",
    "\n",
    "# Query 311 incidents within a 1-kilometer radius of the target point\n",
    "radius_km = 1\n",
    "query = f\"\"\"\n",
    "    SELECT *\n",
    "    FROM complaints_311\n",
    "    WHERE ST_Distance(ST_SetSRID(geometry, 4326), ST_SetSRID(ST_MakePoint({target_longitude}, {target_latitude}), 4326)) <= {radius_km * 1000};\n",
    "\"\"\"\n",
    "\n",
    "gdf_complaint_subset = gpd.read_postgis(query, con=engine, geom_col='geometry')\n",
    "\n",
    "# Plotting\n",
    "fig, ax = plt.subplots(figsize=(10, 10))\n",
    "gdf_complaint_subset.plot(ax=ax, color='red', marker='o', markersize=10, label='311 Incidents')\n",
    "target_point.plot(ax=ax, color='blue', marker='*', markersize=100, label='Target Location')\n",
    "\n",
    "# Set plot properties\n",
    "ax.set_title('311 Incidents within 1km Radius')\n",
    "ax.set_xlabel('Longitude')\n",
    "ax.set_ylabel('Latitude')\n",
    "ax.legend()\n",
    "\n",
    "# Show the plot\n",
    "plt.show()\n",
    "\n",
    "# Close the database connection\n",
    "engine.dispose()"
   ]
  },
  {
   "cell_type": "markdown",
   "id": "db1b25ff",
   "metadata": {},
   "source": [
    "# V6"
   ]
  },
  {
   "cell_type": "code",
   "execution_count": null,
   "id": "733bc590",
   "metadata": {},
   "outputs": [],
   "source": [
    "# Query to get tree coordinates\n",
    "trees_query = \"\"\"\n",
    "SELECT\n",
    "    tree_id,\n",
    "    geometry\n",
    "FROM\n",
    "    trees\n",
    "\"\"\"\n",
    "# Execute the query and create a GeoDataFrame\n",
    "trees_gdf = gpd.read_postgis(trees_query, engine, geom_col='geometry')\n",
    "\n",
    "# Query to get \"New Tree Request\" 311 complaint coordinates\n",
    "new_tree_request_query = \"\"\"\n",
    "SELECT\n",
    "    complaint_id,\n",
    "    geometry\n",
    "FROM\n",
    "    complaints_311\n",
    "WHERE\n",
    "    created_at BETWEEN '2018-10-01' AND '2023-09-30'\n",
    "    AND complaint_type = 'New Tree Request'\n",
    "\"\"\"\n",
    "# Execute the query and create a GeoDataFrame\n",
    "new_tree_request_gdf = gpd.read_postgis(new_tree_request_query, engine, geom_col='geometry')\n",
    "\n",
    "# Plotting\n",
    "fig, ax = plt.subplots(figsize=(12, 8))\n",
    "\n",
    "# Plot trees\n",
    "trees_gdf.plot(ax=ax, color='green', label='Trees')\n",
    "\n",
    "# Plot \"New Tree Request\" 311 complaints\n",
    "new_tree_request_gdf.plot(ax=ax, color='blue', label='New Tree Request')\n",
    "\n",
    "# Set labels and title\n",
    "ax.set_xlabel('Longitude')\n",
    "ax.set_ylabel('Latitude')\n",
    "ax.set_title('Geospatial Plot of Trees and New Tree Request Complaints')\n",
    "ax.legend()\n",
    "\n",
    "# Show the plot\n",
    "plt.show()"
   ]
  }
 ],
 "metadata": {
  "kernelspec": {
   "display_name": "Python 3 (ipykernel)",
   "language": "python",
   "name": "python3"
  },
  "language_info": {
   "codemirror_mode": {
    "name": "ipython",
    "version": 3
   },
   "file_extension": ".py",
   "mimetype": "text/x-python",
   "name": "python",
   "nbconvert_exporter": "python",
   "pygments_lexer": "ipython3",
   "version": "3.11.4"
  }
 },
 "nbformat": 4,
 "nbformat_minor": 5
}
