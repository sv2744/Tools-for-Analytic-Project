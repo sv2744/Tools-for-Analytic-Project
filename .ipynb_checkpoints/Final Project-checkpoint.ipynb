{
 "cells": [
  {
   "cell_type": "markdown",
   "id": "f942cce8",
   "metadata": {},
   "source": [
    "# Setup"
   ]
  },
  {
   "cell_type": "code",
   "execution_count": null,
   "id": "1f19c14d",
   "metadata": {
    "scrolled": true
   },
   "outputs": [],
   "source": [
    "# Install module needed for the project\n",
    "! pip install geoalchemy2\n",
    "! pip install geopandas"
   ]
  },
  {
   "cell_type": "code",
   "execution_count": 1,
   "id": "21fea40b",
   "metadata": {},
   "outputs": [],
   "source": [
    "# Import statements needed for the project\n",
    "import json\n",
    "import pathlib\n",
    "import urllib.parse\n",
    "import os\n",
    "\n",
    "import geoalchemy2 as gdb\n",
    "import geopandas as gpd\n",
    "import matplotlib.pyplot as plt\n",
    "import pandas as pd\n",
    "import requests\n",
    "import shapely\n",
    "import sqlalchemy as db\n",
    "\n",
    "from sqlalchemy.orm import declarative_base\n",
    "from sqlalchemy.ext.declarative import declarative_base\n",
    "from sqlalchemy.orm import sessionmaker\n",
    "from sqlalchemy import create_engine, Column, String, Integer, Date, Float, MetaData, Table"
   ]
  },
  {
   "cell_type": "markdown",
   "id": "681cd43e",
   "metadata": {},
   "source": [
    "# Part 1: Data Preprocessing"
   ]
  },
  {
   "cell_type": "markdown",
   "id": "c1e75f36",
   "metadata": {},
   "source": [
    "## 1.1) NYC Open Data"
   ]
  },
  {
   "cell_type": "code",
   "execution_count": 2,
   "id": "0cf030fc",
   "metadata": {},
   "outputs": [],
   "source": [
    "## Store URL and application token\n",
    "url_complaint = \"https://data.cityofnewyork.us/resource/erm2-nwe9.geojson\"\n",
    "url_tree = \"https://data.cityofnewyork.us/resource/5rq2-4hqu.geojson\"\n",
    "app_token = \"YgXUUmVq41Z9433qxe5qpLOMG\"\n",
    "\n",
    "# Define date range\n",
    "start_date = \"2022-10-01\"\n",
    "end_date = \"2023-09-30\"\n",
    "\n",
    "## Define parameter\n",
    "params_complaint = {\"$$app_token\": app_token,\n",
    "                    \"$select\": \"incident_zip,created_date,location\",\n",
    "                    \"$where\": f\"created_date between '{start_date}T00:00:00' and '{end_date}T23:59:59'\",\n",
    "                    \"$limit\": 1000}\n",
    "\n",
    "params_tree = {\"$$app_token\": app_token,\n",
    "               \"$select\": \"zipcode,created_at, spc_common,health,status\",\n",
    "               \"$limit\": 1000}\n",
    "\n",
    "## Import NYC Open Data\n",
    "raw_data_complaint = requests.get(url_complaint, params=params_complaint).json()\n",
    "raw_data_tree = requests.get(url_tree, params=params_tree).json()\n",
    "\n",
    "# Convert JSON to DataFrame\n",
    "gdf_complaint = gpd.GeoDataFrame.from_features(raw_data_complaint['features'])\n",
    "gdf_tree = gpd.GeoDataFrame.from_features(raw_data_tree['features'])"
   ]
  },
  {
   "cell_type": "markdown",
   "id": "4d41e262",
   "metadata": {},
   "source": [
    "## 1.2) Geometric boundary data "
   ]
  },
  {
   "cell_type": "code",
   "execution_count": 3,
   "id": "1487f870",
   "metadata": {},
   "outputs": [],
   "source": [
    "### Define the path to the SHP file (and related files)\n",
    "# Path for Irene 'Documents', 'GitHub', 'Tools-for-Analytic-Project', 'data', 'nyc_zipcodes.shp'\n",
    "# Path for Sahaphon r'C:\\Users\\USER\\Documents\\GitHub\\Tools-for-Analytic-Project\\data\\nyc_zipcodes.shp'\n",
    "Geom_file_path = os.path.join(os.getcwd(),r'C:\\Users\\USER\\Documents\\GitHub\\Tools-for-Analytic-Project\\data\\nyc_zipcodes.shp')\n",
    "\n",
    "### Load the shapefile using geopandas\n",
    "gdf = gpd.read_file(Geom_file_path)"
   ]
  },
  {
   "cell_type": "markdown",
   "id": "8ba38659",
   "metadata": {},
   "source": [
    "## 1.3) Rent data "
   ]
  },
  {
   "cell_type": "code",
   "execution_count": 4,
   "id": "cd67cca9-ec72-44e3-83b8-b65f1ed5bb2f",
   "metadata": {},
   "outputs": [],
   "source": [
    "### Define selected column (date)\n",
    "rent_selecte_column = ['2023-08-31', '2023-01-31']\n",
    "\n",
    "### Define the path to the CSV file\n",
    "# Path for Irene 'Documents', 'GitHub', 'Tools-for-Analytic-Project', 'data', 'zillow_rent_data.csv'\n",
    "# Path for Sahaphon r'C:\\Users\\USER\\Documents\\GitHub\\Tools-for-Analytic-Project\\data\\zillow_rent_data.csv'\n",
    "rent_file_path = os.path.join(os.getcwd(),r'C:\\Users\\USER\\Documents\\GitHub\\Tools-for-Analytic-Project\\data\\zillow_rent_data.csv')\n",
    "\n",
    "### Convert CSV to DataFrame\n",
    "df = pd.read_csv(rent_file_path,usecols=rent_selecte_column)"
   ]
  },
  {
   "cell_type": "markdown",
   "id": "52476a07-9bf2-4b7a-8cb7-93648bb4d303",
   "metadata": {},
   "source": [
    "## Part 2: Storing Data"
   ]
  },
  {
   "cell_type": "code",
   "execution_count": 5,
   "id": "27b5c8f9",
   "metadata": {},
   "outputs": [
    {
     "name": "stdout",
     "output_type": "stream",
     "text": [
      "^C\n"
     ]
    }
   ],
   "source": [
    "## Create a new database in PostgreSQL\n",
    "!createdb group48project"
   ]
  },
  {
   "cell_type": "code",
   "execution_count": 6,
   "id": "ca62cd92",
   "metadata": {},
   "outputs": [
    {
     "name": "stdout",
     "output_type": "stream",
     "text": [
      "^C\n"
     ]
    }
   ],
   "source": [
    "## Turn on the PostGIS extension\n",
    "!psql --dbname group48project -c 'CREATE EXTENSION postgis;'"
   ]
  },
  {
   "cell_type": "code",
   "execution_count": 7,
   "id": "521ea85f",
   "metadata": {},
   "outputs": [
    {
     "name": "stdout",
     "output_type": "stream",
     "text": [
      "2023-12-04 19:12:47,687 INFO sqlalchemy.engine.Engine BEGIN (implicit)\n",
      "2023-12-04 19:12:47,689 INFO sqlalchemy.engine.Engine PRAGMA main.table_info(\"nyc_zip_codes\")\n",
      "2023-12-04 19:12:47,690 INFO sqlalchemy.engine.Engine [raw sql] ()\n",
      "2023-12-04 19:12:47,691 INFO sqlalchemy.engine.Engine PRAGMA temp.table_info(\"nyc_zip_codes\")\n",
      "2023-12-04 19:12:47,692 INFO sqlalchemy.engine.Engine [raw sql] ()\n",
      "2023-12-04 19:12:47,694 INFO sqlalchemy.engine.Engine PRAGMA main.table_info(\"complaints_311\")\n",
      "2023-12-04 19:12:47,695 INFO sqlalchemy.engine.Engine [raw sql] ()\n",
      "2023-12-04 19:12:47,696 INFO sqlalchemy.engine.Engine PRAGMA temp.table_info(\"complaints_311\")\n",
      "2023-12-04 19:12:47,696 INFO sqlalchemy.engine.Engine [raw sql] ()\n",
      "2023-12-04 19:12:47,697 INFO sqlalchemy.engine.Engine PRAGMA main.table_info(\"trees\")\n",
      "2023-12-04 19:12:47,698 INFO sqlalchemy.engine.Engine [raw sql] ()\n",
      "2023-12-04 19:12:47,698 INFO sqlalchemy.engine.Engine PRAGMA temp.table_info(\"trees\")\n",
      "2023-12-04 19:12:47,699 INFO sqlalchemy.engine.Engine [raw sql] ()\n",
      "2023-12-04 19:12:47,699 INFO sqlalchemy.engine.Engine PRAGMA main.table_info(\"historical_rents\")\n",
      "2023-12-04 19:12:47,700 INFO sqlalchemy.engine.Engine [raw sql] ()\n",
      "2023-12-04 19:12:47,701 INFO sqlalchemy.engine.Engine PRAGMA temp.table_info(\"historical_rents\")\n",
      "2023-12-04 19:12:47,701 INFO sqlalchemy.engine.Engine [raw sql] ()\n",
      "2023-12-04 19:12:47,702 INFO sqlalchemy.engine.Engine \n",
      "CREATE TABLE nyc_zip_codes (\n",
      "\tzip_code VARCHAR(10) NOT NULL, \n",
      "\tborough VARCHAR(255), \n",
      "\tneighborhood VARCHAR(255), \n",
      "\tPRIMARY KEY (zip_code)\n",
      ")\n",
      "\n",
      "\n",
      "2023-12-04 19:12:47,703 INFO sqlalchemy.engine.Engine [no key 0.00040s] ()\n",
      "2023-12-04 19:12:47,709 INFO sqlalchemy.engine.Engine \n",
      "CREATE TABLE complaints_311 (\n",
      "\tcomplaint_id INTEGER NOT NULL, \n",
      "\tdate_received DATE, \n",
      "\tcomplaint_type VARCHAR(255), \n",
      "\tborough VARCHAR(255), \n",
      "\tPRIMARY KEY (complaint_id)\n",
      ")\n",
      "\n",
      "\n",
      "2023-12-04 19:12:47,709 INFO sqlalchemy.engine.Engine [no key 0.00072s] ()\n",
      "2023-12-04 19:12:47,709 INFO sqlalchemy.engine.Engine \n",
      "CREATE TABLE trees (\n",
      "\ttree_id INTEGER NOT NULL, \n",
      "\tspecies VARCHAR(255), \n",
      "\tdiameter_inches FLOAT, \n",
      "\tborough VARCHAR(255), \n",
      "\tPRIMARY KEY (tree_id)\n",
      ")\n",
      "\n",
      "\n",
      "2023-12-04 19:12:47,709 INFO sqlalchemy.engine.Engine [no key 0.00059s] ()\n",
      "2023-12-04 19:12:47,709 INFO sqlalchemy.engine.Engine \n",
      "CREATE TABLE historical_rents (\n",
      "\tid INTEGER NOT NULL, \n",
      "\tzip_code VARCHAR(10), \n",
      "\tdate DATE, \n",
      "\taverage_rent FLOAT, \n",
      "\tPRIMARY KEY (id)\n",
      ")\n",
      "\n",
      "\n",
      "2023-12-04 19:12:47,709 INFO sqlalchemy.engine.Engine [no key 0.00061s] ()\n",
      "2023-12-04 19:12:47,724 INFO sqlalchemy.engine.Engine COMMIT\n"
     ]
    }
   ],
   "source": [
    "## Create Schema File (schema.sql):\n",
    "\n",
    "# Define the database engine\n",
    "engine = create_engine('sqlite:///mydatabase.db', echo=True)\n",
    "\n",
    "# Define the base class for declarative class definitions\n",
    "Base = declarative_base()\n",
    "\n",
    "# Define table classes\n",
    "class NYCZipCodes(Base):\n",
    "    __tablename__ = 'nyc_zip_codes'\n",
    "    zip_code = Column(String(10), primary_key=True)\n",
    "    borough = Column(String(255))\n",
    "    neighborhood = Column(String(255))\n",
    "    # Add other columns as needed\n",
    "\n",
    "class Complaints311(Base):\n",
    "    __tablename__ = 'complaints_311'\n",
    "    complaint_id = Column(Integer, primary_key=True)\n",
    "    date_received = Column(Date)\n",
    "    complaint_type = Column(String(255))\n",
    "    borough = Column(String(255))\n",
    "    # Add other columns as needed\n",
    "\n",
    "class Trees(Base):\n",
    "    __tablename__ = 'trees'\n",
    "    tree_id = Column(Integer, primary_key=True)\n",
    "    species = Column(String(255))\n",
    "    diameter_inches = Column(Float)\n",
    "    borough = Column(String(255))\n",
    "    # Add other columns as needed\n",
    "\n",
    "class HistoricalRents(Base):\n",
    "    __tablename__ = 'historical_rents'\n",
    "    id = Column(Integer, primary_key=True)\n",
    "    zip_code = Column(String(10))\n",
    "    date = Column(Date)\n",
    "    average_rent = Column(Float)\n",
    "    # Add other columns as needed\n",
    "\n",
    "# Create an in-memory SQLite database for schema generation\n",
    "Base.metadata.create_all(engine)\n",
    "\n",
    "# Generate SQL statements for creating tables\n",
    "schema_sql = str(Base.metadata)\n",
    "\n",
    "# Save the generated SQL to a file\n",
    "with open('schema.sql', 'w') as f:\n",
    "    f.write(schema_sql)"
   ]
  },
  {
   "cell_type": "code",
   "execution_count": null,
   "id": "0918d3e2",
   "metadata": {},
   "outputs": [],
   "source": []
  }
 ],
 "metadata": {
  "kernelspec": {
   "display_name": "Python 3 (ipykernel)",
   "language": "python",
   "name": "python3"
  },
  "language_info": {
   "codemirror_mode": {
    "name": "ipython",
    "version": 3
   },
   "file_extension": ".py",
   "mimetype": "text/x-python",
   "name": "python",
   "nbconvert_exporter": "python",
   "pygments_lexer": "ipython3",
   "version": "3.11.4"
  }
 },
 "nbformat": 4,
 "nbformat_minor": 5
}
