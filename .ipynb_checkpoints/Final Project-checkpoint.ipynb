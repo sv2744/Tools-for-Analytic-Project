{
 "cells": [
  {
   "cell_type": "markdown",
   "id": "f942cce8",
   "metadata": {},
   "source": [
    "# Setup"
   ]
  },
  {
   "cell_type": "code",
   "execution_count": null,
   "id": "1f19c14d",
   "metadata": {
    "scrolled": true
   },
   "outputs": [],
   "source": [
    "# Start 4.00\n",
    "# Install module needed for the project\n",
    "! pip install geoalchemy2\n",
    "! pip install geopandas"
   ]
  },
  {
   "cell_type": "code",
   "execution_count": 2,
   "id": "21fea40b",
   "metadata": {},
   "outputs": [],
   "source": [
    "# Import statements needed for the project\n",
    "import json\n",
    "import pathlib\n",
    "import urllib.parse\n",
    "\n",
    "import geoalchemy2 as gdb\n",
    "import geopandas as gpd\n",
    "import matplotlib.pyplot as plt\n",
    "import pandas as pd\n",
    "import requests\n",
    "import shapely\n",
    "import sqlalchemy as db\n",
    "\n",
    "from sqlalchemy.orm import declarative_base"
   ]
  },
  {
   "cell_type": "markdown",
   "id": "681cd43e",
   "metadata": {},
   "source": [
    "# Part 1: Data Preprocessing"
   ]
  },
  {
   "cell_type": "markdown",
   "id": "c1e75f36",
   "metadata": {},
   "source": [
    "## 1.1) NYC Open Data"
   ]
  },
  {
   "cell_type": "code",
   "execution_count": 43,
   "id": "0cf030fc",
   "metadata": {},
   "outputs": [],
   "source": [
    "## Store URL and application token\n",
    "url_complaint = \"https://data.cityofnewyork.us/resource/erm2-nwe9.geojson\"\n",
    "url_tree = \"https://data.cityofnewyork.us/resource/5rq2-4hqu.geojson\"\n",
    "app_token = \"YgXUUmVq41Z9433qxe5qpLOMG\"\n",
    "\n",
    "# Define date range\n",
    "start_date = \"2022-10-01\"\n",
    "end_date = \"2023-09-30\"\n",
    "\n",
    "## Define parameter\n",
    "params_complaint = {\"$$app_token\": app_token,\n",
    "                    \"$select\": \"incident_zip,created_date,location\",\n",
    "                    \"$where\": f\"created_date between '{start_date}T00:00:00' and '{end_date}T23:59:59'\",\n",
    "                    \"$limit\": 1000}\n",
    "\n",
    "params_tree = {\"$$app_token\": app_token,\n",
    "               \"$select\": \"zipcode,created_at, spc_common,health,status\",\n",
    "               \"$limit\": 1000}\n",
    "\n",
    "## Import NYC Open Data\n",
    "raw_data_complaint = requests.get(url_complaint, params=params_complaint).json()\n",
    "raw_data_tree = requests.get(url_tree, params=params_tree).json()\n",
    "\n",
    "# Convert JSON to DataFrame\n",
    "gdf_complaint = gpd.GeoDataFrame.from_features(raw_data_complaint['features'])\n",
    "gdf_tree = gpd.GeoDataFrame.from_features(raw_data_tree['features'])"
   ]
  },
  {
   "cell_type": "markdown",
   "id": "4d41e262",
   "metadata": {},
   "source": [
    "## 1.2) Geometric boundary and rent data "
   ]
  },
  {
   "cell_type": "code",
   "execution_count": 45,
   "id": "cd67cca9-ec72-44e3-83b8-b65f1ed5bb2f",
   "metadata": {},
   "outputs": [],
   "source": [
    "### 1.2.2 Geometric data\n",
    "## ??????????????????????\n",
    "## ??????????????????????\n",
    "## ??????????????????????\n",
    "\n",
    "### 1.2.2 Rent data\n",
    "## Define selected column (date)\n",
    "selected_columns = ['2023-08-31', '2023-01-31']\n",
    "## Import rent aata\n",
    "raw_data_geometric = pd.read_csv('data/zillow_rent_data.csv',\n",
    "                                 usecols=selected_columns)"
   ]
  },
  {
   "cell_type": "markdown",
   "id": "52476a07-9bf2-4b7a-8cb7-93648bb4d303",
   "metadata": {},
   "source": [
    "## Part 2: Storing Data"
   ]
  },
  {
   "cell_type": "code",
   "execution_count": 48,
   "id": "27b5c8f9",
   "metadata": {},
   "outputs": [
    {
     "name": "stderr",
     "output_type": "stream",
     "text": [
      "'createdb' is not recognized as an internal or external command,\n",
      "operable program or batch file.\n"
     ]
    }
   ],
   "source": [
    "!createdb SQLDATABASE"
   ]
  },
  {
   "cell_type": "code",
   "execution_count": null,
   "id": "ca62cd92",
   "metadata": {},
   "outputs": [],
   "source": []
  }
 ],
 "metadata": {
  "kernelspec": {
   "display_name": "Python 3 (ipykernel)",
   "language": "python",
   "name": "python3"
  },
  "language_info": {
   "codemirror_mode": {
    "name": "ipython",
    "version": 3
   },
   "file_extension": ".py",
   "mimetype": "text/x-python",
   "name": "python",
   "nbconvert_exporter": "python",
   "pygments_lexer": "ipython3",
   "version": "3.11.4"
  }
 },
 "nbformat": 4,
 "nbformat_minor": 5
}
